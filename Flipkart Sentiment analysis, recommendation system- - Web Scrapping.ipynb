{
 "cells": [
  {
   "cell_type": "code",
   "execution_count": 19,
   "id": "859c9c96",
   "metadata": {},
   "outputs": [],
   "source": [
    "import requests \n",
    "from bs4 import BeautifulSoup as bs\n",
    "import numpy as np\n",
    "import pandas as ps\n",
    "import tensorflow as tf\n",
    "import tensorflow_hub as hub\n",
    "import tensorflow_text as text\n",
    "import matplotlib.pyplot as mt\n",
    "import pandas as ps\n",
    "import numpy as np\n",
    "import seaborn as sns\n",
    "import math\n",
    "import warnings\n",
    "from sklearn.feature_extraction.text import TfidfVectorizer\n",
    "from sklearn.metrics.pairwise import linear_kernel\n",
    "warnings.filterwarnings('ignore') # Hides warning\n",
    "warnings.filterwarnings(\"ignore\", category=DeprecationWarning)\n",
    "warnings.filterwarnings(\"ignore\",category=UserWarning)\n",
    "sns.set_style(\"whitegrid\") # Plotting style\n",
    "np.random.seed(7) # seeding random number generator\n",
    "import seaborn as sns\n",
    "from sklearn.feature_extraction.text import TfidfVectorizer\n",
    "from sklearn.metrics.pairwise import linear_kernel\n",
    "mt.style.use('ggplot')\n",
    "import nltk"
   ]
  },
  {
   "cell_type": "code",
   "execution_count": 2,
   "id": "948c060f",
   "metadata": {
    "scrolled": true
   },
   "outputs": [
    {
     "name": "stdout",
     "output_type": "stream",
     "text": [
      "Enter Your product: mobile\n"
     ]
    }
   ],
   "source": [
    "product_name = input(\"Enter Your product: \")"
   ]
  },
  {
   "cell_type": "code",
   "execution_count": 4,
   "id": "f58bee16",
   "metadata": {},
   "outputs": [],
   "source": [
    "page_url=\"https://www.flipkart.com/search?q={}\".format(product_name)\n",
    "scrap_pageno=requests.get(page_url).text\n",
    "page_web=bs(scrap_pageno)"
   ]
  },
  {
   "cell_type": "code",
   "execution_count": 5,
   "id": "59baf120",
   "metadata": {},
   "outputs": [
    {
     "data": {
      "text/plain": [
       "'365'"
      ]
     },
     "execution_count": 5,
     "metadata": {},
     "output_type": "execute_result"
    }
   ],
   "source": [
    "page_web.find_all(\"div\",class_=\"_2MImiq\")[0].find(\"span\").text.split()[3]"
   ]
  },
  {
   "cell_type": "code",
   "execution_count": 6,
   "id": "8b9062bf",
   "metadata": {},
   "outputs": [],
   "source": [
    "page_url=\"https://www.flipkart.com/search?q={}\".format(product_name)\n",
    "scrap_pageno=requests.get(page_url).text\n",
    "page_web=bs(scrap_pageno)\n",
    "try:\n",
    "    page_no=int(page_web.find_all(\"div\",class_=\"_2MImiq\")[0].find(\"span\").text.split()[3])\n",
    "    \n",
    "except Exception as e:\n",
    "    a=page_web.find_all(\"div\",class_=\"_2MImiq\")[0].find(\"span\").text.split()[3].split(\",\")\n",
    "    page_no=int(a[0]+a[1])"
   ]
  },
  {
   "cell_type": "code",
   "execution_count": 7,
   "id": "150e80fe",
   "metadata": {},
   "outputs": [
    {
     "data": {
      "text/plain": [
       "365"
      ]
     },
     "execution_count": 7,
     "metadata": {},
     "output_type": "execute_result"
    }
   ],
   "source": [
    "page_no"
   ]
  },
  {
   "cell_type": "code",
   "execution_count": 10,
   "id": "c6903bf1",
   "metadata": {},
   "outputs": [],
   "source": [
    "import requests\n",
    "from bs4 import BeautifulSoup as bs\n",
    "\n",
    "final_links = []\n",
    "reviews = []\n",
    "product_title = []\n",
    "\n",
    "for i in range(1, page_no + 1):\n",
    "    url = \"https://www.flipkart.com/search?q={}&page={}\".format(product_name, i)\n",
    "    headers = {\n",
    "        \"User-Agent\": \"Mozilla/5.0 (Windows NT 6.3; Win64; x64) AppleWebKit/537.36 (KHTML, like Gecko) Chrome/80.0.3987.162 Safari/537.36\"\n",
    "    }\n",
    "    webpage = requests.get(url, headers=headers).text\n",
    "    scrap = requests.get(url).text\n",
    "    web = bs(scrap)\n",
    "    \n",
    "    # Find the product links with the specified class for accessories\n",
    "    for j in web.find_all(\"a\", class_=\"s1Q9rs\"):\n",
    "        link = \"https://www.flipkart.com\" + j.get(\"href\")\n",
    "        link = link.replace(\"/p/\", \"/product-reviews/\")\n",
    "        final_links.append(link)\n",
    "\n",
    "# Iterate through the collected links and scrape reviews\n",
    "for k in final_links:\n",
    "    product_page = requests.get(k).text\n",
    "    page_web = bs(product_page)\n",
    "    test = page_web.find_all(\"div\", class_=\"_2MImiq _1Qnn1K\")\n",
    "    \n",
    "    if len(test) > 0:\n",
    "        try:\n",
    "            pro_page_no = int(page_web.find_all(\"div\", class_=\"_2MImiq _1Qnn1K\")[0].find(\"span\").text.split()[3])\n",
    "        except Exception as e:\n",
    "            pro_ex = page_web.find_all(\"div\", class_=\"_2MImiq _1Qnn1K\")[0].find(\"span\").text.split()[3].split(\",\")\n",
    "            pro_page_no = int(pro_ex[0] + pro_ex[1])\n",
    "    else:\n",
    "        pro_page_no = 1\n",
    "    \n",
    "    for t in range(1,2):\n",
    "        scrap = requests.get(k + \"&page={}\".format(t)).text\n",
    "        pro_web = bs(scrap)\n",
    "        \n",
    "        for l in pro_web.find_all(\"p\", class_=\"_2-N8zT\"):\n",
    "            reviews.append(l.text)\n",
    "            try:\n",
    "                product_title.append(pro_web.find(\"div\", class_=\"_2s4DIt _1CDdy2\").text)\n",
    "            except:\n",
    "                product_title.append(\"no name\")\n",
    "                "
   ]
  },
  {
   "cell_type": "code",
   "execution_count": 8,
   "id": "3fd8a656",
   "metadata": {},
   "outputs": [],
   "source": [
    "# Pipeline for data fetching from website\n",
    "# import requests\n",
    "# from bs4 import BeautifulSoup as bs\n",
    "\n",
    "# final_links = []\n",
    "# reviews = []\n",
    "# product_title = []\n",
    "\n",
    "# for i in range(1, page_no + 1):\n",
    "#     url = \"https://www.flipkart.com/search?q={}&page={}\".format(product_name, i)\n",
    "#     headers = {\n",
    "#         \"User-Agent\": \"Mozilla/5.0 (Windows NT 6.3; Win64; x64) AppleWebKit/537.36 (KHTML, like Gecko) Chrome/80.0.3987.162 Safari/537.36\"\n",
    "#     }\n",
    "#     webpage = requests.get(url, headers=headers).text\n",
    "#     scrap = requests.get(url).text\n",
    "#     web = bs(scrap)\n",
    "    \n",
    "#     for j in web.find_all(\"a\", class_=\"_1fQZEK\"):\n",
    "#         link = \"https://www.flipkart.com\" + j.get(\"href\")\n",
    "#         link = link.replace(\"/p/\", \"/product-reviews/\")\n",
    "#         final_links.append(link)\n",
    "# else:\n",
    "#     for k in final_links:\n",
    "#         product_page = requests.get(k).text\n",
    "#         page_web = bs(product_page)\n",
    "#         test = page_web.find_all(\"div\", class_=\"_2MImiq _1Qnn1K\")\n",
    "        \n",
    "#         if len(test) > 0:\n",
    "#             try:\n",
    "#                 pro_page_no = int(page_web.find_all(\"div\", class_=\"_2MImiq _1Qnn1K\")[0].find(\"span\").text.split()[3])\n",
    "#             except Exception as e:\n",
    "#                 pro_ex = page_web.find_all(\"div\", class_=\"_2MImiq _1Qnn1K\")[0].find(\"span\").text.split()[3].split(\",\")\n",
    "#                 pro_page_no = int(pro_ex[0] + pro_ex[1])\n",
    "#         else:\n",
    "#             pro_page_no = 1\n",
    "        \n",
    "#         for t in range(1,2):\n",
    "#             scrap = requests.get(k + \"&page={}\".format(t)).text\n",
    "#             pro_web = bs(scrap)\n",
    "            \n",
    "#             for l in pro_web.find_all(\"p\", class_=\"_2-N8zT\"):\n",
    "#                 reviews.append(l.text)\n",
    "#                 try:\n",
    "#                     product_title.append(pro_web.find(\"div\", class_=\"_2s4DIt _1CDdy2\").text)\n",
    "#                 except:\n",
    "#                     product_title.append(\"no name\")"
   ]
  },
  {
   "cell_type": "code",
   "execution_count": null,
   "id": "6c22d669",
   "metadata": {},
   "outputs": [],
   "source": [
    "pro_web.find(\"a\",class_=\"s1Q9rs\")"
   ]
  },
  {
   "cell_type": "code",
   "execution_count": null,
   "id": "cd6fd0bf",
   "metadata": {},
   "outputs": [],
   "source": [
    "pro_web.find(\"div\",class_=\"_2s4DIt _1CDdy2\")"
   ]
  },
  {
   "cell_type": "code",
   "execution_count": 13,
   "id": "f33910d5",
   "metadata": {},
   "outputs": [],
   "source": [
    "# pro_page_no+1"
   ]
  },
  {
   "cell_type": "code",
   "execution_count": 14,
   "id": "df5c1f28",
   "metadata": {},
   "outputs": [
    {
     "data": {
      "text/plain": [
       "0"
      ]
     },
     "execution_count": 14,
     "metadata": {},
     "output_type": "execute_result"
    }
   ],
   "source": [
    "len(reviews)"
   ]
  },
  {
   "cell_type": "code",
   "execution_count": 15,
   "id": "25309fdf",
   "metadata": {},
   "outputs": [
    {
     "data": {
      "text/plain": [
       "0"
      ]
     },
     "execution_count": 15,
     "metadata": {},
     "output_type": "execute_result"
    }
   ],
   "source": [
    "len(product_title)"
   ]
  },
  {
   "cell_type": "code",
   "execution_count": null,
   "id": "47a42936",
   "metadata": {
    "scrolled": true
   },
   "outputs": [],
   "source": [
    "import pandas as ps\n",
    "fd=ps.DataFrame({\"product_title\":product_title,\"reviews\":reviews})\n",
    "fd.head()"
   ]
  },
  {
   "cell_type": "code",
   "execution_count": 17,
   "id": "e3f97c89",
   "metadata": {},
   "outputs": [],
   "source": [
    "fd.to_csv(r\"D:\\capstone\\2\\accessories.csv\")"
   ]
  },
  {
   "cell_type": "code",
   "execution_count": 68,
   "id": "3c8ee9ff",
   "metadata": {},
   "outputs": [],
   "source": [
    "fd.to_csv(r\"D:\\capstone\\2\\vivo.csv\")"
   ]
  },
  {
   "cell_type": "code",
   "execution_count": 69,
   "id": "b9bda4dc",
   "metadata": {},
   "outputs": [],
   "source": [
    "fd.to_csv(r\"D:\\capstone\\2\\refrigerators.csv\")"
   ]
  },
  {
   "cell_type": "code",
   "execution_count": 70,
   "id": "d036241c",
   "metadata": {},
   "outputs": [],
   "source": [
    "fd.to_csv(r\"D:\\capstone\\2\\IFB_.csv\")"
   ]
  },
  {
   "cell_type": "code",
   "execution_count": 71,
   "id": "7ee86a22",
   "metadata": {},
   "outputs": [],
   "source": [
    "fd.to_csv(r\"D:\\capstone\\2\\IFB.csv\")"
   ]
  },
  {
   "cell_type": "code",
   "execution_count": 72,
   "id": "c1e22b44",
   "metadata": {},
   "outputs": [],
   "source": [
    "fd.to_csv(r\"D:\\capstone\\2\\LG.csv\")"
   ]
  },
  {
   "cell_type": "code",
   "execution_count": 73,
   "id": "4e72f663",
   "metadata": {},
   "outputs": [],
   "source": [
    "fd.to_csv(r\"D:\\capstone\\2\\vu.csv\")"
   ]
  },
  {
   "cell_type": "code",
   "execution_count": 74,
   "id": "c78a12cb",
   "metadata": {},
   "outputs": [],
   "source": [
    "fd.to_csv(r\"D:\\capstone\\2\\laptops.csv\")"
   ]
  },
  {
   "cell_type": "code",
   "execution_count": 75,
   "id": "6382c5c8",
   "metadata": {},
   "outputs": [],
   "source": [
    "fd.to_csv(r\"D:\\capstone\\2\\jabbaaaa.csv\")"
   ]
  },
  {
   "cell_type": "code",
   "execution_count": 76,
   "id": "5cfbbb7d",
   "metadata": {},
   "outputs": [],
   "source": [
    "fd.to_csv(r\"D:\\capstone\\2\\washing_machines.csv\")"
   ]
  },
  {
   "cell_type": "code",
   "execution_count": 77,
   "id": "12b8f428",
   "metadata": {},
   "outputs": [],
   "source": [
    "fd.to_csv(r\"D:\\capstone\\2\\mi_mobiles.csv\")"
   ]
  },
  {
   "cell_type": "code",
   "execution_count": 78,
   "id": "33594727",
   "metadata": {},
   "outputs": [],
   "source": [
    "fd.to_csv(r\"D:\\capstone\\2\\iphone_1.csv\")"
   ]
  },
  {
   "cell_type": "code",
   "execution_count": 79,
   "id": "7217bb95",
   "metadata": {},
   "outputs": [],
   "source": [
    "fd.to_csv(r\"D:\\capstone\\2\\oneplusmobile.csv\")"
   ]
  },
  {
   "cell_type": "code",
   "execution_count": 80,
   "id": "eafaffce",
   "metadata": {},
   "outputs": [],
   "source": [
    "fd.to_csv(r\"D:\\capstone\\2\\iphone.csv\")"
   ]
  },
  {
   "cell_type": "code",
   "execution_count": 81,
   "id": "81bddaa1",
   "metadata": {},
   "outputs": [],
   "source": [
    "fd.to_csv(r\"D:\\capstone\\2\\samsungtv.csv\")"
   ]
  },
  {
   "cell_type": "code",
   "execution_count": 82,
   "id": "7a3f872e",
   "metadata": {},
   "outputs": [],
   "source": [
    "ps.set_option(\"display.max_rows\",None)"
   ]
  },
  {
   "cell_type": "code",
   "execution_count": 20,
   "id": "97be99df",
   "metadata": {},
   "outputs": [
    {
     "data": {
      "text/html": [
       "<div>\n",
       "<style scoped>\n",
       "    .dataframe tbody tr th:only-of-type {\n",
       "        vertical-align: middle;\n",
       "    }\n",
       "\n",
       "    .dataframe tbody tr th {\n",
       "        vertical-align: top;\n",
       "    }\n",
       "\n",
       "    .dataframe thead th {\n",
       "        text-align: right;\n",
       "    }\n",
       "</style>\n",
       "<table border=\"1\" class=\"dataframe\">\n",
       "  <thead>\n",
       "    <tr style=\"text-align: right;\">\n",
       "      <th></th>\n",
       "      <th>Unnamed: 0</th>\n",
       "      <th>product_title</th>\n",
       "      <th>reviews</th>\n",
       "    </tr>\n",
       "  </thead>\n",
       "  <tbody>\n",
       "    <tr>\n",
       "      <th>0</th>\n",
       "      <td>0</td>\n",
       "      <td>InnoQ 6.5 Kg Semi Automatic Top Load Washing M...</td>\n",
       "      <td>Best in the market!</td>\n",
       "    </tr>\n",
       "    <tr>\n",
       "      <th>1</th>\n",
       "      <td>1</td>\n",
       "      <td>InnoQ 6.5 Kg Semi Automatic Top Load Washing M...</td>\n",
       "      <td>Great product</td>\n",
       "    </tr>\n",
       "    <tr>\n",
       "      <th>2</th>\n",
       "      <td>2</td>\n",
       "      <td>InnoQ 6.5 Kg Semi Automatic Top Load Washing M...</td>\n",
       "      <td>Super!</td>\n",
       "    </tr>\n",
       "    <tr>\n",
       "      <th>3</th>\n",
       "      <td>3</td>\n",
       "      <td>InnoQ 6.5 Kg Semi Automatic Top Load Washing M...</td>\n",
       "      <td>Worth every penny</td>\n",
       "    </tr>\n",
       "    <tr>\n",
       "      <th>4</th>\n",
       "      <td>4</td>\n",
       "      <td>InnoQ 6.5 Kg Semi Automatic Top Load Washing M...</td>\n",
       "      <td>Just wow!</td>\n",
       "    </tr>\n",
       "  </tbody>\n",
       "</table>\n",
       "</div>"
      ],
      "text/plain": [
       "   Unnamed: 0                                      product_title  \\\n",
       "0           0  InnoQ 6.5 Kg Semi Automatic Top Load Washing M...   \n",
       "1           1  InnoQ 6.5 Kg Semi Automatic Top Load Washing M...   \n",
       "2           2  InnoQ 6.5 Kg Semi Automatic Top Load Washing M...   \n",
       "3           3  InnoQ 6.5 Kg Semi Automatic Top Load Washing M...   \n",
       "4           4  InnoQ 6.5 Kg Semi Automatic Top Load Washing M...   \n",
       "\n",
       "               reviews  \n",
       "0  Best in the market!  \n",
       "1        Great product  \n",
       "2               Super!  \n",
       "3    Worth every penny  \n",
       "4            Just wow!  "
      ]
     },
     "execution_count": 20,
     "metadata": {},
     "output_type": "execute_result"
    }
   ],
   "source": [
    "df=ps.read_csv(r\"D:\\capstone\\2\\washing_machines.csv\")\n",
    "df.head()"
   ]
  },
  {
   "cell_type": "code",
   "execution_count": 21,
   "id": "3542475f",
   "metadata": {},
   "outputs": [
    {
     "data": {
      "text/html": [
       "<div>\n",
       "<style scoped>\n",
       "    .dataframe tbody tr th:only-of-type {\n",
       "        vertical-align: middle;\n",
       "    }\n",
       "\n",
       "    .dataframe tbody tr th {\n",
       "        vertical-align: top;\n",
       "    }\n",
       "\n",
       "    .dataframe thead th {\n",
       "        text-align: right;\n",
       "    }\n",
       "</style>\n",
       "<table border=\"1\" class=\"dataframe\">\n",
       "  <thead>\n",
       "    <tr style=\"text-align: right;\">\n",
       "      <th></th>\n",
       "      <th>Unnamed: 0</th>\n",
       "      <th>product_title</th>\n",
       "      <th>reviews</th>\n",
       "    </tr>\n",
       "  </thead>\n",
       "  <tbody>\n",
       "    <tr>\n",
       "      <th>0</th>\n",
       "      <td>0</td>\n",
       "      <td>APPLE iPhone 13 (Starlight, 128 GB) Reviews</td>\n",
       "      <td>Mind-blowing purchase</td>\n",
       "    </tr>\n",
       "    <tr>\n",
       "      <th>1</th>\n",
       "      <td>1</td>\n",
       "      <td>APPLE iPhone 13 (Starlight, 128 GB) Reviews</td>\n",
       "      <td>Very Good</td>\n",
       "    </tr>\n",
       "    <tr>\n",
       "      <th>2</th>\n",
       "      <td>2</td>\n",
       "      <td>APPLE iPhone 13 (Starlight, 128 GB) Reviews</td>\n",
       "      <td>Best in the market!</td>\n",
       "    </tr>\n",
       "    <tr>\n",
       "      <th>3</th>\n",
       "      <td>3</td>\n",
       "      <td>APPLE iPhone 13 (Starlight, 128 GB) Reviews</td>\n",
       "      <td>Excellent</td>\n",
       "    </tr>\n",
       "    <tr>\n",
       "      <th>4</th>\n",
       "      <td>4</td>\n",
       "      <td>APPLE iPhone 13 (Starlight, 128 GB) Reviews</td>\n",
       "      <td>Brilliant</td>\n",
       "    </tr>\n",
       "  </tbody>\n",
       "</table>\n",
       "</div>"
      ],
      "text/plain": [
       "   Unnamed: 0                                product_title  \\\n",
       "0           0  APPLE iPhone 13 (Starlight, 128 GB) Reviews   \n",
       "1           1  APPLE iPhone 13 (Starlight, 128 GB) Reviews   \n",
       "2           2  APPLE iPhone 13 (Starlight, 128 GB) Reviews   \n",
       "3           3  APPLE iPhone 13 (Starlight, 128 GB) Reviews   \n",
       "4           4  APPLE iPhone 13 (Starlight, 128 GB) Reviews   \n",
       "\n",
       "                 reviews  \n",
       "0  Mind-blowing purchase  \n",
       "1              Very Good  \n",
       "2    Best in the market!  \n",
       "3              Excellent  \n",
       "4              Brilliant  "
      ]
     },
     "execution_count": 21,
     "metadata": {},
     "output_type": "execute_result"
    }
   ],
   "source": [
    "df1=ps.read_csv(r\"D:\\capstone\\2\\iphone_1.csv\")\n",
    "df1.head()"
   ]
  },
  {
   "cell_type": "code",
   "execution_count": 22,
   "id": "b493ad61",
   "metadata": {},
   "outputs": [
    {
     "data": {
      "text/html": [
       "<div>\n",
       "<style scoped>\n",
       "    .dataframe tbody tr th:only-of-type {\n",
       "        vertical-align: middle;\n",
       "    }\n",
       "\n",
       "    .dataframe tbody tr th {\n",
       "        vertical-align: top;\n",
       "    }\n",
       "\n",
       "    .dataframe thead th {\n",
       "        text-align: right;\n",
       "    }\n",
       "</style>\n",
       "<table border=\"1\" class=\"dataframe\">\n",
       "  <thead>\n",
       "    <tr style=\"text-align: right;\">\n",
       "      <th></th>\n",
       "      <th>Unnamed: 0</th>\n",
       "      <th>product_title</th>\n",
       "      <th>reviews</th>\n",
       "    </tr>\n",
       "  </thead>\n",
       "  <tbody>\n",
       "    <tr>\n",
       "      <th>0</th>\n",
       "      <td>0</td>\n",
       "      <td>REDMI 10 Power (Sporty Orange, 128 GB) Reviews</td>\n",
       "      <td>Nice product</td>\n",
       "    </tr>\n",
       "    <tr>\n",
       "      <th>1</th>\n",
       "      <td>1</td>\n",
       "      <td>REDMI 10 Power (Sporty Orange, 128 GB) Reviews</td>\n",
       "      <td>Nice product</td>\n",
       "    </tr>\n",
       "    <tr>\n",
       "      <th>2</th>\n",
       "      <td>2</td>\n",
       "      <td>REDMI 10 Power (Sporty Orange, 128 GB) Reviews</td>\n",
       "      <td>Nice</td>\n",
       "    </tr>\n",
       "    <tr>\n",
       "      <th>3</th>\n",
       "      <td>3</td>\n",
       "      <td>REDMI 10 Power (Sporty Orange, 128 GB) Reviews</td>\n",
       "      <td>Delightful</td>\n",
       "    </tr>\n",
       "    <tr>\n",
       "      <th>4</th>\n",
       "      <td>4</td>\n",
       "      <td>REDMI 10 Power (Sporty Orange, 128 GB) Reviews</td>\n",
       "      <td>Moderate</td>\n",
       "    </tr>\n",
       "  </tbody>\n",
       "</table>\n",
       "</div>"
      ],
      "text/plain": [
       "   Unnamed: 0                                   product_title       reviews\n",
       "0           0  REDMI 10 Power (Sporty Orange, 128 GB) Reviews  Nice product\n",
       "1           1  REDMI 10 Power (Sporty Orange, 128 GB) Reviews  Nice product\n",
       "2           2  REDMI 10 Power (Sporty Orange, 128 GB) Reviews          Nice\n",
       "3           3  REDMI 10 Power (Sporty Orange, 128 GB) Reviews    Delightful\n",
       "4           4  REDMI 10 Power (Sporty Orange, 128 GB) Reviews      Moderate"
      ]
     },
     "execution_count": 22,
     "metadata": {},
     "output_type": "execute_result"
    }
   ],
   "source": [
    "df2=ps.read_csv(r\"D:\\capstone\\2\\mi_mobiles.csv\")\n",
    "df2.head()"
   ]
  },
  {
   "cell_type": "code",
   "execution_count": 23,
   "id": "d81dcf48",
   "metadata": {},
   "outputs": [
    {
     "data": {
      "text/html": [
       "<div>\n",
       "<style scoped>\n",
       "    .dataframe tbody tr th:only-of-type {\n",
       "        vertical-align: middle;\n",
       "    }\n",
       "\n",
       "    .dataframe tbody tr th {\n",
       "        vertical-align: top;\n",
       "    }\n",
       "\n",
       "    .dataframe thead th {\n",
       "        text-align: right;\n",
       "    }\n",
       "</style>\n",
       "<table border=\"1\" class=\"dataframe\">\n",
       "  <thead>\n",
       "    <tr style=\"text-align: right;\">\n",
       "      <th></th>\n",
       "      <th>Unnamed: 0</th>\n",
       "      <th>product_title</th>\n",
       "      <th>reviews</th>\n",
       "    </tr>\n",
       "  </thead>\n",
       "  <tbody>\n",
       "    <tr>\n",
       "      <th>0</th>\n",
       "      <td>0</td>\n",
       "      <td>OnePlus Nord CE 2 Lite 5G (Blue Tide, 128 GB) ...</td>\n",
       "      <td>Must buy!</td>\n",
       "    </tr>\n",
       "    <tr>\n",
       "      <th>1</th>\n",
       "      <td>1</td>\n",
       "      <td>OnePlus Nord CE 2 Lite 5G (Blue Tide, 128 GB) ...</td>\n",
       "      <td>Delightful</td>\n",
       "    </tr>\n",
       "    <tr>\n",
       "      <th>2</th>\n",
       "      <td>2</td>\n",
       "      <td>OnePlus Nord CE 2 Lite 5G (Blue Tide, 128 GB) ...</td>\n",
       "      <td>Nice product</td>\n",
       "    </tr>\n",
       "    <tr>\n",
       "      <th>3</th>\n",
       "      <td>3</td>\n",
       "      <td>OnePlus Nord CE 2 Lite 5G (Blue Tide, 128 GB) ...</td>\n",
       "      <td>Decent product</td>\n",
       "    </tr>\n",
       "    <tr>\n",
       "      <th>4</th>\n",
       "      <td>4</td>\n",
       "      <td>OnePlus Nord CE 2 Lite 5G (Blue Tide, 128 GB) ...</td>\n",
       "      <td>Nice product</td>\n",
       "    </tr>\n",
       "  </tbody>\n",
       "</table>\n",
       "</div>"
      ],
      "text/plain": [
       "   Unnamed: 0                                      product_title  \\\n",
       "0           0  OnePlus Nord CE 2 Lite 5G (Blue Tide, 128 GB) ...   \n",
       "1           1  OnePlus Nord CE 2 Lite 5G (Blue Tide, 128 GB) ...   \n",
       "2           2  OnePlus Nord CE 2 Lite 5G (Blue Tide, 128 GB) ...   \n",
       "3           3  OnePlus Nord CE 2 Lite 5G (Blue Tide, 128 GB) ...   \n",
       "4           4  OnePlus Nord CE 2 Lite 5G (Blue Tide, 128 GB) ...   \n",
       "\n",
       "          reviews  \n",
       "0       Must buy!  \n",
       "1      Delightful  \n",
       "2    Nice product  \n",
       "3  Decent product  \n",
       "4    Nice product  "
      ]
     },
     "execution_count": 23,
     "metadata": {},
     "output_type": "execute_result"
    }
   ],
   "source": [
    "df3=ps.read_csv(r\"D:\\capstone\\2\\oneplusmobile.csv\")\n",
    "df3.head()"
   ]
  },
  {
   "cell_type": "code",
   "execution_count": 24,
   "id": "822392ae",
   "metadata": {},
   "outputs": [
    {
     "data": {
      "text/html": [
       "<div>\n",
       "<style scoped>\n",
       "    .dataframe tbody tr th:only-of-type {\n",
       "        vertical-align: middle;\n",
       "    }\n",
       "\n",
       "    .dataframe tbody tr th {\n",
       "        vertical-align: top;\n",
       "    }\n",
       "\n",
       "    .dataframe thead th {\n",
       "        text-align: right;\n",
       "    }\n",
       "</style>\n",
       "<table border=\"1\" class=\"dataframe\">\n",
       "  <thead>\n",
       "    <tr style=\"text-align: right;\">\n",
       "      <th></th>\n",
       "      <th>Unnamed: 0</th>\n",
       "      <th>product_title</th>\n",
       "      <th>reviews</th>\n",
       "    </tr>\n",
       "  </thead>\n",
       "  <tbody>\n",
       "    <tr>\n",
       "      <th>0</th>\n",
       "      <td>0</td>\n",
       "      <td>Apple 20W ,USB-C Power Charging Adapter for iP...</td>\n",
       "      <td>Just wow!</td>\n",
       "    </tr>\n",
       "    <tr>\n",
       "      <th>1</th>\n",
       "      <td>1</td>\n",
       "      <td>Apple 20W ,USB-C Power Charging Adapter for iP...</td>\n",
       "      <td>Worth the money</td>\n",
       "    </tr>\n",
       "    <tr>\n",
       "      <th>2</th>\n",
       "      <td>2</td>\n",
       "      <td>Apple 20W ,USB-C Power Charging Adapter for iP...</td>\n",
       "      <td>Terrific purchase</td>\n",
       "    </tr>\n",
       "    <tr>\n",
       "      <th>3</th>\n",
       "      <td>3</td>\n",
       "      <td>Apple 20W ,USB-C Power Charging Adapter for iP...</td>\n",
       "      <td>Must buy!</td>\n",
       "    </tr>\n",
       "    <tr>\n",
       "      <th>4</th>\n",
       "      <td>4</td>\n",
       "      <td>Apple 20W ,USB-C Power Charging Adapter for iP...</td>\n",
       "      <td>Great product</td>\n",
       "    </tr>\n",
       "  </tbody>\n",
       "</table>\n",
       "</div>"
      ],
      "text/plain": [
       "   Unnamed: 0                                      product_title  \\\n",
       "0           0  Apple 20W ,USB-C Power Charging Adapter for iP...   \n",
       "1           1  Apple 20W ,USB-C Power Charging Adapter for iP...   \n",
       "2           2  Apple 20W ,USB-C Power Charging Adapter for iP...   \n",
       "3           3  Apple 20W ,USB-C Power Charging Adapter for iP...   \n",
       "4           4  Apple 20W ,USB-C Power Charging Adapter for iP...   \n",
       "\n",
       "             reviews  \n",
       "0          Just wow!  \n",
       "1    Worth the money  \n",
       "2  Terrific purchase  \n",
       "3          Must buy!  \n",
       "4      Great product  "
      ]
     },
     "execution_count": 24,
     "metadata": {},
     "output_type": "execute_result"
    }
   ],
   "source": [
    "df4=ps.read_csv(r\"D:\\capstone\\2\\iphone.csv\")\n",
    "df4.head()"
   ]
  },
  {
   "cell_type": "code",
   "execution_count": 25,
   "id": "e79a225a",
   "metadata": {},
   "outputs": [
    {
     "data": {
      "text/html": [
       "<div>\n",
       "<style scoped>\n",
       "    .dataframe tbody tr th:only-of-type {\n",
       "        vertical-align: middle;\n",
       "    }\n",
       "\n",
       "    .dataframe tbody tr th {\n",
       "        vertical-align: top;\n",
       "    }\n",
       "\n",
       "    .dataframe thead th {\n",
       "        text-align: right;\n",
       "    }\n",
       "</style>\n",
       "<table border=\"1\" class=\"dataframe\">\n",
       "  <thead>\n",
       "    <tr style=\"text-align: right;\">\n",
       "      <th></th>\n",
       "      <th>Unnamed: 0</th>\n",
       "      <th>product_title</th>\n",
       "      <th>reviews</th>\n",
       "    </tr>\n",
       "  </thead>\n",
       "  <tbody>\n",
       "    <tr>\n",
       "      <th>0</th>\n",
       "      <td>0</td>\n",
       "      <td>SAMSUNG Galaxy F13 (Waterfall Blue, 64 GB) Rev...</td>\n",
       "      <td>Simply awesome</td>\n",
       "    </tr>\n",
       "    <tr>\n",
       "      <th>1</th>\n",
       "      <td>1</td>\n",
       "      <td>SAMSUNG Galaxy F13 (Waterfall Blue, 64 GB) Rev...</td>\n",
       "      <td>Worth every penny</td>\n",
       "    </tr>\n",
       "    <tr>\n",
       "      <th>2</th>\n",
       "      <td>2</td>\n",
       "      <td>SAMSUNG Galaxy F13 (Waterfall Blue, 64 GB) Rev...</td>\n",
       "      <td>Nice product</td>\n",
       "    </tr>\n",
       "    <tr>\n",
       "      <th>3</th>\n",
       "      <td>3</td>\n",
       "      <td>SAMSUNG Galaxy F13 (Waterfall Blue, 64 GB) Rev...</td>\n",
       "      <td>Fabulous!</td>\n",
       "    </tr>\n",
       "    <tr>\n",
       "      <th>4</th>\n",
       "      <td>4</td>\n",
       "      <td>SAMSUNG Galaxy F13 (Waterfall Blue, 64 GB) Rev...</td>\n",
       "      <td>Awesome</td>\n",
       "    </tr>\n",
       "  </tbody>\n",
       "</table>\n",
       "</div>"
      ],
      "text/plain": [
       "   Unnamed: 0                                      product_title  \\\n",
       "0           0  SAMSUNG Galaxy F13 (Waterfall Blue, 64 GB) Rev...   \n",
       "1           1  SAMSUNG Galaxy F13 (Waterfall Blue, 64 GB) Rev...   \n",
       "2           2  SAMSUNG Galaxy F13 (Waterfall Blue, 64 GB) Rev...   \n",
       "3           3  SAMSUNG Galaxy F13 (Waterfall Blue, 64 GB) Rev...   \n",
       "4           4  SAMSUNG Galaxy F13 (Waterfall Blue, 64 GB) Rev...   \n",
       "\n",
       "             reviews  \n",
       "0     Simply awesome  \n",
       "1  Worth every penny  \n",
       "2       Nice product  \n",
       "3          Fabulous!  \n",
       "4            Awesome  "
      ]
     },
     "execution_count": 25,
     "metadata": {},
     "output_type": "execute_result"
    }
   ],
   "source": [
    "df5=ps.read_csv(r\"D:\\capstone\\2\\samsungtv.csv\")\n",
    "df5.head()"
   ]
  },
  {
   "cell_type": "code",
   "execution_count": 26,
   "id": "05825a6b",
   "metadata": {},
   "outputs": [
    {
     "data": {
      "text/html": [
       "<div>\n",
       "<style scoped>\n",
       "    .dataframe tbody tr th:only-of-type {\n",
       "        vertical-align: middle;\n",
       "    }\n",
       "\n",
       "    .dataframe tbody tr th {\n",
       "        vertical-align: top;\n",
       "    }\n",
       "\n",
       "    .dataframe thead th {\n",
       "        text-align: right;\n",
       "    }\n",
       "</style>\n",
       "<table border=\"1\" class=\"dataframe\">\n",
       "  <thead>\n",
       "    <tr style=\"text-align: right;\">\n",
       "      <th></th>\n",
       "      <th>Unnamed: 0</th>\n",
       "      <th>product_title</th>\n",
       "      <th>reviews</th>\n",
       "    </tr>\n",
       "  </thead>\n",
       "  <tbody>\n",
       "    <tr>\n",
       "      <th>0</th>\n",
       "      <td>0</td>\n",
       "      <td>APPLE iPhone 13 (Midnight, 128 GB) Reviews</td>\n",
       "      <td>Perfect product!</td>\n",
       "    </tr>\n",
       "    <tr>\n",
       "      <th>1</th>\n",
       "      <td>1</td>\n",
       "      <td>APPLE iPhone 13 (Midnight, 128 GB) Reviews</td>\n",
       "      <td>Perfect product!</td>\n",
       "    </tr>\n",
       "    <tr>\n",
       "      <th>2</th>\n",
       "      <td>2</td>\n",
       "      <td>APPLE iPhone 13 (Midnight, 128 GB) Reviews</td>\n",
       "      <td>Brilliant</td>\n",
       "    </tr>\n",
       "    <tr>\n",
       "      <th>3</th>\n",
       "      <td>3</td>\n",
       "      <td>APPLE iPhone 13 (Midnight, 128 GB) Reviews</td>\n",
       "      <td>Excellent</td>\n",
       "    </tr>\n",
       "    <tr>\n",
       "      <th>4</th>\n",
       "      <td>4</td>\n",
       "      <td>APPLE iPhone 13 (Midnight, 128 GB) Reviews</td>\n",
       "      <td>Fabulous!</td>\n",
       "    </tr>\n",
       "  </tbody>\n",
       "</table>\n",
       "</div>"
      ],
      "text/plain": [
       "   Unnamed: 0                               product_title           reviews\n",
       "0           0  APPLE iPhone 13 (Midnight, 128 GB) Reviews  Perfect product!\n",
       "1           1  APPLE iPhone 13 (Midnight, 128 GB) Reviews  Perfect product!\n",
       "2           2  APPLE iPhone 13 (Midnight, 128 GB) Reviews         Brilliant\n",
       "3           3  APPLE iPhone 13 (Midnight, 128 GB) Reviews         Excellent\n",
       "4           4  APPLE iPhone 13 (Midnight, 128 GB) Reviews         Fabulous!"
      ]
     },
     "execution_count": 26,
     "metadata": {},
     "output_type": "execute_result"
    }
   ],
   "source": [
    "df6=ps.read_csv(r\"D:\\capstone\\2\\jabbaaaa.csv\")\n",
    "df6.head()"
   ]
  },
  {
   "cell_type": "code",
   "execution_count": 27,
   "id": "abb0563e",
   "metadata": {},
   "outputs": [
    {
     "data": {
      "text/html": [
       "<div>\n",
       "<style scoped>\n",
       "    .dataframe tbody tr th:only-of-type {\n",
       "        vertical-align: middle;\n",
       "    }\n",
       "\n",
       "    .dataframe tbody tr th {\n",
       "        vertical-align: top;\n",
       "    }\n",
       "\n",
       "    .dataframe thead th {\n",
       "        text-align: right;\n",
       "    }\n",
       "</style>\n",
       "<table border=\"1\" class=\"dataframe\">\n",
       "  <thead>\n",
       "    <tr style=\"text-align: right;\">\n",
       "      <th></th>\n",
       "      <th>Unnamed: 0</th>\n",
       "      <th>product_title</th>\n",
       "      <th>reviews</th>\n",
       "    </tr>\n",
       "  </thead>\n",
       "  <tbody>\n",
       "    <tr>\n",
       "      <th>0</th>\n",
       "      <td>0</td>\n",
       "      <td>Vu Premium TV 108 cm (43 inch) Full HD LED Sma...</td>\n",
       "      <td>Simply awesome</td>\n",
       "    </tr>\n",
       "    <tr>\n",
       "      <th>1</th>\n",
       "      <td>1</td>\n",
       "      <td>Vu Premium TV 108 cm (43 inch) Full HD LED Sma...</td>\n",
       "      <td>Terrific</td>\n",
       "    </tr>\n",
       "    <tr>\n",
       "      <th>2</th>\n",
       "      <td>2</td>\n",
       "      <td>Vu Premium TV 108 cm (43 inch) Full HD LED Sma...</td>\n",
       "      <td>Wonderful</td>\n",
       "    </tr>\n",
       "    <tr>\n",
       "      <th>3</th>\n",
       "      <td>3</td>\n",
       "      <td>Vu Premium TV 108 cm (43 inch) Full HD LED Sma...</td>\n",
       "      <td>Highly recommended</td>\n",
       "    </tr>\n",
       "    <tr>\n",
       "      <th>4</th>\n",
       "      <td>4</td>\n",
       "      <td>Vu Premium TV 108 cm (43 inch) Full HD LED Sma...</td>\n",
       "      <td>Don't waste your money</td>\n",
       "    </tr>\n",
       "    <tr>\n",
       "      <th>5</th>\n",
       "      <td>5</td>\n",
       "      <td>Vu Premium TV 108 cm (43 inch) Full HD LED Sma...</td>\n",
       "      <td>Did not meet expectations</td>\n",
       "    </tr>\n",
       "    <tr>\n",
       "      <th>6</th>\n",
       "      <td>6</td>\n",
       "      <td>Vu Premium TV 108 cm (43 inch) Full HD LED Sma...</td>\n",
       "      <td>Really Nice</td>\n",
       "    </tr>\n",
       "    <tr>\n",
       "      <th>7</th>\n",
       "      <td>7</td>\n",
       "      <td>Vu Premium TV 108 cm (43 inch) Full HD LED Sma...</td>\n",
       "      <td>Worth every penny</td>\n",
       "    </tr>\n",
       "    <tr>\n",
       "      <th>8</th>\n",
       "      <td>8</td>\n",
       "      <td>Vu Premium TV 108 cm (43 inch) Full HD LED Sma...</td>\n",
       "      <td>Wonderful</td>\n",
       "    </tr>\n",
       "    <tr>\n",
       "      <th>9</th>\n",
       "      <td>9</td>\n",
       "      <td>Vu Premium TV 108 cm (43 inch) Full HD LED Sma...</td>\n",
       "      <td>Classy product</td>\n",
       "    </tr>\n",
       "  </tbody>\n",
       "</table>\n",
       "</div>"
      ],
      "text/plain": [
       "   Unnamed: 0                                      product_title  \\\n",
       "0           0  Vu Premium TV 108 cm (43 inch) Full HD LED Sma...   \n",
       "1           1  Vu Premium TV 108 cm (43 inch) Full HD LED Sma...   \n",
       "2           2  Vu Premium TV 108 cm (43 inch) Full HD LED Sma...   \n",
       "3           3  Vu Premium TV 108 cm (43 inch) Full HD LED Sma...   \n",
       "4           4  Vu Premium TV 108 cm (43 inch) Full HD LED Sma...   \n",
       "5           5  Vu Premium TV 108 cm (43 inch) Full HD LED Sma...   \n",
       "6           6  Vu Premium TV 108 cm (43 inch) Full HD LED Sma...   \n",
       "7           7  Vu Premium TV 108 cm (43 inch) Full HD LED Sma...   \n",
       "8           8  Vu Premium TV 108 cm (43 inch) Full HD LED Sma...   \n",
       "9           9  Vu Premium TV 108 cm (43 inch) Full HD LED Sma...   \n",
       "\n",
       "                     reviews  \n",
       "0             Simply awesome  \n",
       "1                   Terrific  \n",
       "2                  Wonderful  \n",
       "3         Highly recommended  \n",
       "4     Don't waste your money  \n",
       "5  Did not meet expectations  \n",
       "6                Really Nice  \n",
       "7          Worth every penny  \n",
       "8                  Wonderful  \n",
       "9             Classy product  "
      ]
     },
     "execution_count": 27,
     "metadata": {},
     "output_type": "execute_result"
    }
   ],
   "source": [
    "df7=ps.read_csv(r\"D:\\capstone\\2\\vu.csv\")\n",
    "df7.head(10)"
   ]
  },
  {
   "cell_type": "code",
   "execution_count": 28,
   "id": "225ee069",
   "metadata": {},
   "outputs": [
    {
     "data": {
      "text/html": [
       "<div>\n",
       "<style scoped>\n",
       "    .dataframe tbody tr th:only-of-type {\n",
       "        vertical-align: middle;\n",
       "    }\n",
       "\n",
       "    .dataframe tbody tr th {\n",
       "        vertical-align: top;\n",
       "    }\n",
       "\n",
       "    .dataframe thead th {\n",
       "        text-align: right;\n",
       "    }\n",
       "</style>\n",
       "<table border=\"1\" class=\"dataframe\">\n",
       "  <thead>\n",
       "    <tr style=\"text-align: right;\">\n",
       "      <th></th>\n",
       "      <th>Unnamed: 0</th>\n",
       "      <th>product_title</th>\n",
       "      <th>reviews</th>\n",
       "    </tr>\n",
       "  </thead>\n",
       "  <tbody>\n",
       "    <tr>\n",
       "      <th>0</th>\n",
       "      <td>0</td>\n",
       "      <td>Primebook 4G Android Based MediaTek MT8788 - (...</td>\n",
       "      <td>Simply awesome</td>\n",
       "    </tr>\n",
       "    <tr>\n",
       "      <th>1</th>\n",
       "      <td>1</td>\n",
       "      <td>Primebook 4G Android Based MediaTek MT8788 - (...</td>\n",
       "      <td>Terrific</td>\n",
       "    </tr>\n",
       "    <tr>\n",
       "      <th>2</th>\n",
       "      <td>2</td>\n",
       "      <td>Primebook 4G Android Based MediaTek MT8788 - (...</td>\n",
       "      <td>Awesome</td>\n",
       "    </tr>\n",
       "    <tr>\n",
       "      <th>3</th>\n",
       "      <td>3</td>\n",
       "      <td>Primebook 4G Android Based MediaTek MT8788 - (...</td>\n",
       "      <td>Worth every penny</td>\n",
       "    </tr>\n",
       "    <tr>\n",
       "      <th>4</th>\n",
       "      <td>4</td>\n",
       "      <td>Primebook 4G Android Based MediaTek MT8788 - (...</td>\n",
       "      <td>Very Good</td>\n",
       "    </tr>\n",
       "    <tr>\n",
       "      <th>5</th>\n",
       "      <td>5</td>\n",
       "      <td>Primebook 4G Android Based MediaTek MT8788 - (...</td>\n",
       "      <td>Fabulous!</td>\n",
       "    </tr>\n",
       "    <tr>\n",
       "      <th>6</th>\n",
       "      <td>6</td>\n",
       "      <td>Primebook 4G Android Based MediaTek MT8788 - (...</td>\n",
       "      <td>Terrific</td>\n",
       "    </tr>\n",
       "    <tr>\n",
       "      <th>7</th>\n",
       "      <td>7</td>\n",
       "      <td>Primebook 4G Android Based MediaTek MT8788 - (...</td>\n",
       "      <td>Super!</td>\n",
       "    </tr>\n",
       "    <tr>\n",
       "      <th>8</th>\n",
       "      <td>8</td>\n",
       "      <td>Primebook 4G Android Based MediaTek MT8788 - (...</td>\n",
       "      <td>Must buy!</td>\n",
       "    </tr>\n",
       "    <tr>\n",
       "      <th>9</th>\n",
       "      <td>9</td>\n",
       "      <td>Primebook 4G Android Based MediaTek MT8788 - (...</td>\n",
       "      <td>Awesome</td>\n",
       "    </tr>\n",
       "  </tbody>\n",
       "</table>\n",
       "</div>"
      ],
      "text/plain": [
       "   Unnamed: 0                                      product_title  \\\n",
       "0           0  Primebook 4G Android Based MediaTek MT8788 - (...   \n",
       "1           1  Primebook 4G Android Based MediaTek MT8788 - (...   \n",
       "2           2  Primebook 4G Android Based MediaTek MT8788 - (...   \n",
       "3           3  Primebook 4G Android Based MediaTek MT8788 - (...   \n",
       "4           4  Primebook 4G Android Based MediaTek MT8788 - (...   \n",
       "5           5  Primebook 4G Android Based MediaTek MT8788 - (...   \n",
       "6           6  Primebook 4G Android Based MediaTek MT8788 - (...   \n",
       "7           7  Primebook 4G Android Based MediaTek MT8788 - (...   \n",
       "8           8  Primebook 4G Android Based MediaTek MT8788 - (...   \n",
       "9           9  Primebook 4G Android Based MediaTek MT8788 - (...   \n",
       "\n",
       "             reviews  \n",
       "0     Simply awesome  \n",
       "1           Terrific  \n",
       "2            Awesome  \n",
       "3  Worth every penny  \n",
       "4          Very Good  \n",
       "5          Fabulous!  \n",
       "6           Terrific  \n",
       "7             Super!  \n",
       "8          Must buy!  \n",
       "9            Awesome  "
      ]
     },
     "execution_count": 28,
     "metadata": {},
     "output_type": "execute_result"
    }
   ],
   "source": [
    "df8=ps.read_csv(r\"D:\\capstone\\2\\laptops.csv\")\n",
    "df8.head(10)"
   ]
  },
  {
   "cell_type": "code",
   "execution_count": 29,
   "id": "29197889",
   "metadata": {},
   "outputs": [
    {
     "data": {
      "text/html": [
       "<div>\n",
       "<style scoped>\n",
       "    .dataframe tbody tr th:only-of-type {\n",
       "        vertical-align: middle;\n",
       "    }\n",
       "\n",
       "    .dataframe tbody tr th {\n",
       "        vertical-align: top;\n",
       "    }\n",
       "\n",
       "    .dataframe thead th {\n",
       "        text-align: right;\n",
       "    }\n",
       "</style>\n",
       "<table border=\"1\" class=\"dataframe\">\n",
       "  <thead>\n",
       "    <tr style=\"text-align: right;\">\n",
       "      <th></th>\n",
       "      <th>Unnamed: 0</th>\n",
       "      <th>product_title</th>\n",
       "      <th>reviews</th>\n",
       "    </tr>\n",
       "  </thead>\n",
       "  <tbody>\n",
       "    <tr>\n",
       "      <th>0</th>\n",
       "      <td>0</td>\n",
       "      <td>LG AI Convertible 6-in-1 Cooling 2023 Model 1....</td>\n",
       "      <td>Pretty good</td>\n",
       "    </tr>\n",
       "    <tr>\n",
       "      <th>1</th>\n",
       "      <td>1</td>\n",
       "      <td>LG AI Convertible 6-in-1 Cooling 2023 Model 1....</td>\n",
       "      <td>Perfect product!</td>\n",
       "    </tr>\n",
       "    <tr>\n",
       "      <th>2</th>\n",
       "      <td>2</td>\n",
       "      <td>LG AI Convertible 6-in-1 Cooling 2023 Model 1....</td>\n",
       "      <td>Must buy!</td>\n",
       "    </tr>\n",
       "    <tr>\n",
       "      <th>3</th>\n",
       "      <td>3</td>\n",
       "      <td>LG AI Convertible 6-in-1 Cooling 2023 Model 1....</td>\n",
       "      <td>Super!</td>\n",
       "    </tr>\n",
       "    <tr>\n",
       "      <th>4</th>\n",
       "      <td>4</td>\n",
       "      <td>LG AI Convertible 6-in-1 Cooling 2023 Model 1....</td>\n",
       "      <td>Value-for-money</td>\n",
       "    </tr>\n",
       "    <tr>\n",
       "      <th>5</th>\n",
       "      <td>5</td>\n",
       "      <td>LG AI Convertible 6-in-1 Cooling 2023 Model 1....</td>\n",
       "      <td>Classy product</td>\n",
       "    </tr>\n",
       "    <tr>\n",
       "      <th>6</th>\n",
       "      <td>6</td>\n",
       "      <td>LG AI Convertible 6-in-1 Cooling 2023 Model 1....</td>\n",
       "      <td>Very Good</td>\n",
       "    </tr>\n",
       "    <tr>\n",
       "      <th>7</th>\n",
       "      <td>7</td>\n",
       "      <td>LG AI Convertible 6-in-1 Cooling 2023 Model 1....</td>\n",
       "      <td>Excellent</td>\n",
       "    </tr>\n",
       "    <tr>\n",
       "      <th>8</th>\n",
       "      <td>8</td>\n",
       "      <td>LG AI Convertible 6-in-1 Cooling 2023 Model 1....</td>\n",
       "      <td>Super!</td>\n",
       "    </tr>\n",
       "    <tr>\n",
       "      <th>9</th>\n",
       "      <td>9</td>\n",
       "      <td>LG AI Convertible 6-in-1 Cooling 2023 Model 1....</td>\n",
       "      <td>Fabulous!</td>\n",
       "    </tr>\n",
       "  </tbody>\n",
       "</table>\n",
       "</div>"
      ],
      "text/plain": [
       "   Unnamed: 0                                      product_title  \\\n",
       "0           0  LG AI Convertible 6-in-1 Cooling 2023 Model 1....   \n",
       "1           1  LG AI Convertible 6-in-1 Cooling 2023 Model 1....   \n",
       "2           2  LG AI Convertible 6-in-1 Cooling 2023 Model 1....   \n",
       "3           3  LG AI Convertible 6-in-1 Cooling 2023 Model 1....   \n",
       "4           4  LG AI Convertible 6-in-1 Cooling 2023 Model 1....   \n",
       "5           5  LG AI Convertible 6-in-1 Cooling 2023 Model 1....   \n",
       "6           6  LG AI Convertible 6-in-1 Cooling 2023 Model 1....   \n",
       "7           7  LG AI Convertible 6-in-1 Cooling 2023 Model 1....   \n",
       "8           8  LG AI Convertible 6-in-1 Cooling 2023 Model 1....   \n",
       "9           9  LG AI Convertible 6-in-1 Cooling 2023 Model 1....   \n",
       "\n",
       "            reviews  \n",
       "0       Pretty good  \n",
       "1  Perfect product!  \n",
       "2         Must buy!  \n",
       "3            Super!  \n",
       "4   Value-for-money  \n",
       "5    Classy product  \n",
       "6         Very Good  \n",
       "7         Excellent  \n",
       "8            Super!  \n",
       "9         Fabulous!  "
      ]
     },
     "execution_count": 29,
     "metadata": {},
     "output_type": "execute_result"
    }
   ],
   "source": [
    "df9=ps.read_csv(r\"D:\\capstone\\2\\LG.csv\")\n",
    "df9.head(10)"
   ]
  },
  {
   "cell_type": "code",
   "execution_count": 30,
   "id": "c1fe1339",
   "metadata": {
    "scrolled": true
   },
   "outputs": [
    {
     "data": {
      "text/html": [
       "<div>\n",
       "<style scoped>\n",
       "    .dataframe tbody tr th:only-of-type {\n",
       "        vertical-align: middle;\n",
       "    }\n",
       "\n",
       "    .dataframe tbody tr th {\n",
       "        vertical-align: top;\n",
       "    }\n",
       "\n",
       "    .dataframe thead th {\n",
       "        text-align: right;\n",
       "    }\n",
       "</style>\n",
       "<table border=\"1\" class=\"dataframe\">\n",
       "  <thead>\n",
       "    <tr style=\"text-align: right;\">\n",
       "      <th></th>\n",
       "      <th>Unnamed: 0</th>\n",
       "      <th>product_title</th>\n",
       "      <th>reviews</th>\n",
       "    </tr>\n",
       "  </thead>\n",
       "  <tbody>\n",
       "    <tr>\n",
       "      <th>0</th>\n",
       "      <td>0</td>\n",
       "      <td>IFB 9 kg 2X Power Dual Steam, Hard Water Wash,...</td>\n",
       "      <td>Fabulous!</td>\n",
       "    </tr>\n",
       "    <tr>\n",
       "      <th>1</th>\n",
       "      <td>1</td>\n",
       "      <td>IFB 9 kg 2X Power Dual Steam, Hard Water Wash,...</td>\n",
       "      <td>Must buy!</td>\n",
       "    </tr>\n",
       "    <tr>\n",
       "      <th>2</th>\n",
       "      <td>2</td>\n",
       "      <td>IFB 9 kg 2X Power Dual Steam, Hard Water Wash,...</td>\n",
       "      <td>Nice</td>\n",
       "    </tr>\n",
       "    <tr>\n",
       "      <th>3</th>\n",
       "      <td>3</td>\n",
       "      <td>IFB 9 kg 2X Power Dual Steam, Hard Water Wash,...</td>\n",
       "      <td>Best in the market!</td>\n",
       "    </tr>\n",
       "    <tr>\n",
       "      <th>4</th>\n",
       "      <td>4</td>\n",
       "      <td>IFB 9 kg 2X Power Dual Steam, Hard Water Wash,...</td>\n",
       "      <td>Hated it!</td>\n",
       "    </tr>\n",
       "    <tr>\n",
       "      <th>5</th>\n",
       "      <td>5</td>\n",
       "      <td>IFB 9 kg 2X Power Dual Steam, Hard Water Wash,...</td>\n",
       "      <td>Fabulous!</td>\n",
       "    </tr>\n",
       "    <tr>\n",
       "      <th>6</th>\n",
       "      <td>6</td>\n",
       "      <td>IFB 9 kg 2X Power Dual Steam, Hard Water Wash,...</td>\n",
       "      <td>Fabulous!</td>\n",
       "    </tr>\n",
       "    <tr>\n",
       "      <th>7</th>\n",
       "      <td>7</td>\n",
       "      <td>IFB 9 kg 2X Power Dual Steam, Hard Water Wash,...</td>\n",
       "      <td>Classy product</td>\n",
       "    </tr>\n",
       "    <tr>\n",
       "      <th>8</th>\n",
       "      <td>8</td>\n",
       "      <td>IFB 9 kg 2X Power Dual Steam, Hard Water Wash,...</td>\n",
       "      <td>Fabulous!</td>\n",
       "    </tr>\n",
       "    <tr>\n",
       "      <th>9</th>\n",
       "      <td>9</td>\n",
       "      <td>IFB 9 kg 2X Power Dual Steam, Hard Water Wash,...</td>\n",
       "      <td>Wonderful</td>\n",
       "    </tr>\n",
       "  </tbody>\n",
       "</table>\n",
       "</div>"
      ],
      "text/plain": [
       "   Unnamed: 0                                      product_title  \\\n",
       "0           0  IFB 9 kg 2X Power Dual Steam, Hard Water Wash,...   \n",
       "1           1  IFB 9 kg 2X Power Dual Steam, Hard Water Wash,...   \n",
       "2           2  IFB 9 kg 2X Power Dual Steam, Hard Water Wash,...   \n",
       "3           3  IFB 9 kg 2X Power Dual Steam, Hard Water Wash,...   \n",
       "4           4  IFB 9 kg 2X Power Dual Steam, Hard Water Wash,...   \n",
       "5           5  IFB 9 kg 2X Power Dual Steam, Hard Water Wash,...   \n",
       "6           6  IFB 9 kg 2X Power Dual Steam, Hard Water Wash,...   \n",
       "7           7  IFB 9 kg 2X Power Dual Steam, Hard Water Wash,...   \n",
       "8           8  IFB 9 kg 2X Power Dual Steam, Hard Water Wash,...   \n",
       "9           9  IFB 9 kg 2X Power Dual Steam, Hard Water Wash,...   \n",
       "\n",
       "               reviews  \n",
       "0            Fabulous!  \n",
       "1            Must buy!  \n",
       "2                 Nice  \n",
       "3  Best in the market!  \n",
       "4            Hated it!  \n",
       "5            Fabulous!  \n",
       "6            Fabulous!  \n",
       "7       Classy product  \n",
       "8            Fabulous!  \n",
       "9            Wonderful  "
      ]
     },
     "execution_count": 30,
     "metadata": {},
     "output_type": "execute_result"
    }
   ],
   "source": [
    "df10=ps.read_csv(r\"D:\\capstone\\2\\IFB.csv\")\n",
    "df10.head(10)"
   ]
  },
  {
   "cell_type": "code",
   "execution_count": 31,
   "id": "e1472cf1",
   "metadata": {},
   "outputs": [
    {
     "data": {
      "text/html": [
       "<div>\n",
       "<style scoped>\n",
       "    .dataframe tbody tr th:only-of-type {\n",
       "        vertical-align: middle;\n",
       "    }\n",
       "\n",
       "    .dataframe tbody tr th {\n",
       "        vertical-align: top;\n",
       "    }\n",
       "\n",
       "    .dataframe thead th {\n",
       "        text-align: right;\n",
       "    }\n",
       "</style>\n",
       "<table border=\"1\" class=\"dataframe\">\n",
       "  <thead>\n",
       "    <tr style=\"text-align: right;\">\n",
       "      <th></th>\n",
       "      <th>Unnamed: 0</th>\n",
       "      <th>product_title</th>\n",
       "      <th>reviews</th>\n",
       "    </tr>\n",
       "  </thead>\n",
       "  <tbody>\n",
       "    <tr>\n",
       "      <th>0</th>\n",
       "      <td>0</td>\n",
       "      <td>IFB 8 kg 5 Star 9 Swirl AI Powered with Wi-Fi ...</td>\n",
       "      <td>Delightful</td>\n",
       "    </tr>\n",
       "    <tr>\n",
       "      <th>1</th>\n",
       "      <td>1</td>\n",
       "      <td>IFB 8 kg 5 Star 9 Swirl AI Powered with Wi-Fi ...</td>\n",
       "      <td>Best in the market!</td>\n",
       "    </tr>\n",
       "    <tr>\n",
       "      <th>2</th>\n",
       "      <td>2</td>\n",
       "      <td>IFB 8 kg 5 Star 9 Swirl AI Powered with Wi-Fi ...</td>\n",
       "      <td>Must buy!</td>\n",
       "    </tr>\n",
       "    <tr>\n",
       "      <th>3</th>\n",
       "      <td>3</td>\n",
       "      <td>IFB 8 kg 5 Star 9 Swirl AI Powered with Wi-Fi ...</td>\n",
       "      <td>Great product</td>\n",
       "    </tr>\n",
       "    <tr>\n",
       "      <th>4</th>\n",
       "      <td>4</td>\n",
       "      <td>IFB 8 kg 5 Star 9 Swirl AI Powered with Wi-Fi ...</td>\n",
       "      <td>Really Nice</td>\n",
       "    </tr>\n",
       "    <tr>\n",
       "      <th>5</th>\n",
       "      <td>5</td>\n",
       "      <td>IFB 8 kg 5 Star 9 Swirl AI Powered with Wi-Fi ...</td>\n",
       "      <td>Mind-blowing purchase</td>\n",
       "    </tr>\n",
       "    <tr>\n",
       "      <th>6</th>\n",
       "      <td>6</td>\n",
       "      <td>IFB 8 kg 5 Star 9 Swirl AI Powered with Wi-Fi ...</td>\n",
       "      <td>Awesome</td>\n",
       "    </tr>\n",
       "    <tr>\n",
       "      <th>7</th>\n",
       "      <td>7</td>\n",
       "      <td>IFB 8 kg 5 Star 9 Swirl AI Powered with Wi-Fi ...</td>\n",
       "      <td>Mind-blowing purchase</td>\n",
       "    </tr>\n",
       "    <tr>\n",
       "      <th>8</th>\n",
       "      <td>8</td>\n",
       "      <td>IFB 8 kg 5 Star 9 Swirl AI Powered with Wi-Fi ...</td>\n",
       "      <td>Great product</td>\n",
       "    </tr>\n",
       "    <tr>\n",
       "      <th>9</th>\n",
       "      <td>9</td>\n",
       "      <td>IFB 8 kg 5 Star 9 Swirl AI Powered with Wi-Fi ...</td>\n",
       "      <td>Just wow!</td>\n",
       "    </tr>\n",
       "  </tbody>\n",
       "</table>\n",
       "</div>"
      ],
      "text/plain": [
       "   Unnamed: 0                                      product_title  \\\n",
       "0           0  IFB 8 kg 5 Star 9 Swirl AI Powered with Wi-Fi ...   \n",
       "1           1  IFB 8 kg 5 Star 9 Swirl AI Powered with Wi-Fi ...   \n",
       "2           2  IFB 8 kg 5 Star 9 Swirl AI Powered with Wi-Fi ...   \n",
       "3           3  IFB 8 kg 5 Star 9 Swirl AI Powered with Wi-Fi ...   \n",
       "4           4  IFB 8 kg 5 Star 9 Swirl AI Powered with Wi-Fi ...   \n",
       "5           5  IFB 8 kg 5 Star 9 Swirl AI Powered with Wi-Fi ...   \n",
       "6           6  IFB 8 kg 5 Star 9 Swirl AI Powered with Wi-Fi ...   \n",
       "7           7  IFB 8 kg 5 Star 9 Swirl AI Powered with Wi-Fi ...   \n",
       "8           8  IFB 8 kg 5 Star 9 Swirl AI Powered with Wi-Fi ...   \n",
       "9           9  IFB 8 kg 5 Star 9 Swirl AI Powered with Wi-Fi ...   \n",
       "\n",
       "                 reviews  \n",
       "0             Delightful  \n",
       "1    Best in the market!  \n",
       "2              Must buy!  \n",
       "3          Great product  \n",
       "4            Really Nice  \n",
       "5  Mind-blowing purchase  \n",
       "6                Awesome  \n",
       "7  Mind-blowing purchase  \n",
       "8          Great product  \n",
       "9              Just wow!  "
      ]
     },
     "execution_count": 31,
     "metadata": {},
     "output_type": "execute_result"
    }
   ],
   "source": [
    "df11=ps.read_csv(r\"D:\\capstone\\2\\IFB_.csv\")\n",
    "df11.head(10)"
   ]
  },
  {
   "cell_type": "code",
   "execution_count": 32,
   "id": "6014a44e",
   "metadata": {},
   "outputs": [
    {
     "data": {
      "text/html": [
       "<div>\n",
       "<style scoped>\n",
       "    .dataframe tbody tr th:only-of-type {\n",
       "        vertical-align: middle;\n",
       "    }\n",
       "\n",
       "    .dataframe tbody tr th {\n",
       "        vertical-align: top;\n",
       "    }\n",
       "\n",
       "    .dataframe thead th {\n",
       "        text-align: right;\n",
       "    }\n",
       "</style>\n",
       "<table border=\"1\" class=\"dataframe\">\n",
       "  <thead>\n",
       "    <tr style=\"text-align: right;\">\n",
       "      <th></th>\n",
       "      <th>Unnamed: 0</th>\n",
       "      <th>product_title</th>\n",
       "      <th>reviews</th>\n",
       "    </tr>\n",
       "  </thead>\n",
       "  <tbody>\n",
       "    <tr>\n",
       "      <th>0</th>\n",
       "      <td>0</td>\n",
       "      <td>FABER HOOD PLUTO PB BF BK 60 Wall Mounted Chim...</td>\n",
       "      <td>Worth every penny</td>\n",
       "    </tr>\n",
       "    <tr>\n",
       "      <th>1</th>\n",
       "      <td>1</td>\n",
       "      <td>FABER HOOD PLUTO PB BF BK 60 Wall Mounted Chim...</td>\n",
       "      <td>Excellent</td>\n",
       "    </tr>\n",
       "    <tr>\n",
       "      <th>2</th>\n",
       "      <td>2</td>\n",
       "      <td>FABER HOOD PLUTO PB BF BK 60 Wall Mounted Chim...</td>\n",
       "      <td>Perfect product!</td>\n",
       "    </tr>\n",
       "    <tr>\n",
       "      <th>3</th>\n",
       "      <td>3</td>\n",
       "      <td>FABER HOOD PLUTO PB BF BK 60 Wall Mounted Chim...</td>\n",
       "      <td>Horrible</td>\n",
       "    </tr>\n",
       "    <tr>\n",
       "      <th>4</th>\n",
       "      <td>4</td>\n",
       "      <td>FABER HOOD PLUTO PB BF BK 60 Wall Mounted Chim...</td>\n",
       "      <td>Excellent</td>\n",
       "    </tr>\n",
       "    <tr>\n",
       "      <th>5</th>\n",
       "      <td>5</td>\n",
       "      <td>FABER HOOD PLUTO PB BF BK 60 Wall Mounted Chim...</td>\n",
       "      <td>Great product</td>\n",
       "    </tr>\n",
       "    <tr>\n",
       "      <th>6</th>\n",
       "      <td>6</td>\n",
       "      <td>FABER HOOD PLUTO PB BF BK 60 Wall Mounted Chim...</td>\n",
       "      <td>Highly recommended</td>\n",
       "    </tr>\n",
       "    <tr>\n",
       "      <th>7</th>\n",
       "      <td>7</td>\n",
       "      <td>FABER HOOD PLUTO PB BF BK 60 Wall Mounted Chim...</td>\n",
       "      <td>Super!</td>\n",
       "    </tr>\n",
       "    <tr>\n",
       "      <th>8</th>\n",
       "      <td>8</td>\n",
       "      <td>FABER HOOD PLUTO PB BF BK 60 Wall Mounted Chim...</td>\n",
       "      <td>Best in the market!</td>\n",
       "    </tr>\n",
       "    <tr>\n",
       "      <th>9</th>\n",
       "      <td>9</td>\n",
       "      <td>FABER HOOD PLUTO PB BF BK 60 Wall Mounted Chim...</td>\n",
       "      <td>Highly recommended</td>\n",
       "    </tr>\n",
       "  </tbody>\n",
       "</table>\n",
       "</div>"
      ],
      "text/plain": [
       "   Unnamed: 0                                      product_title  \\\n",
       "0           0  FABER HOOD PLUTO PB BF BK 60 Wall Mounted Chim...   \n",
       "1           1  FABER HOOD PLUTO PB BF BK 60 Wall Mounted Chim...   \n",
       "2           2  FABER HOOD PLUTO PB BF BK 60 Wall Mounted Chim...   \n",
       "3           3  FABER HOOD PLUTO PB BF BK 60 Wall Mounted Chim...   \n",
       "4           4  FABER HOOD PLUTO PB BF BK 60 Wall Mounted Chim...   \n",
       "5           5  FABER HOOD PLUTO PB BF BK 60 Wall Mounted Chim...   \n",
       "6           6  FABER HOOD PLUTO PB BF BK 60 Wall Mounted Chim...   \n",
       "7           7  FABER HOOD PLUTO PB BF BK 60 Wall Mounted Chim...   \n",
       "8           8  FABER HOOD PLUTO PB BF BK 60 Wall Mounted Chim...   \n",
       "9           9  FABER HOOD PLUTO PB BF BK 60 Wall Mounted Chim...   \n",
       "\n",
       "               reviews  \n",
       "0    Worth every penny  \n",
       "1            Excellent  \n",
       "2     Perfect product!  \n",
       "3             Horrible  \n",
       "4            Excellent  \n",
       "5        Great product  \n",
       "6   Highly recommended  \n",
       "7               Super!  \n",
       "8  Best in the market!  \n",
       "9   Highly recommended  "
      ]
     },
     "execution_count": 32,
     "metadata": {},
     "output_type": "execute_result"
    }
   ],
   "source": [
    "df12=ps.read_csv(r\"D:\\capstone\\2\\refrigerators.csv\")\n",
    "df12.head(10)"
   ]
  },
  {
   "cell_type": "code",
   "execution_count": 33,
   "id": "bb799809",
   "metadata": {},
   "outputs": [
    {
     "data": {
      "text/html": [
       "<div>\n",
       "<style scoped>\n",
       "    .dataframe tbody tr th:only-of-type {\n",
       "        vertical-align: middle;\n",
       "    }\n",
       "\n",
       "    .dataframe tbody tr th {\n",
       "        vertical-align: top;\n",
       "    }\n",
       "\n",
       "    .dataframe thead th {\n",
       "        text-align: right;\n",
       "    }\n",
       "</style>\n",
       "<table border=\"1\" class=\"dataframe\">\n",
       "  <thead>\n",
       "    <tr style=\"text-align: right;\">\n",
       "      <th></th>\n",
       "      <th>Unnamed: 0</th>\n",
       "      <th>product_title</th>\n",
       "      <th>reviews</th>\n",
       "    </tr>\n",
       "  </thead>\n",
       "  <tbody>\n",
       "    <tr>\n",
       "      <th>0</th>\n",
       "      <td>0</td>\n",
       "      <td>Caseex Back Cover for Apple iPhone 13 Reviews</td>\n",
       "      <td>Super!</td>\n",
       "    </tr>\n",
       "    <tr>\n",
       "      <th>1</th>\n",
       "      <td>1</td>\n",
       "      <td>Caseex Back Cover for Apple iPhone 13 Reviews</td>\n",
       "      <td>Not recommended at all</td>\n",
       "    </tr>\n",
       "    <tr>\n",
       "      <th>2</th>\n",
       "      <td>2</td>\n",
       "      <td>Caseex Back Cover for Apple iPhone 13 Reviews</td>\n",
       "      <td>Perfect product!</td>\n",
       "    </tr>\n",
       "    <tr>\n",
       "      <th>3</th>\n",
       "      <td>3</td>\n",
       "      <td>Caseex Back Cover for Apple iPhone 13 Reviews</td>\n",
       "      <td>Wonderful</td>\n",
       "    </tr>\n",
       "    <tr>\n",
       "      <th>4</th>\n",
       "      <td>4</td>\n",
       "      <td>Caseex Back Cover for Apple iPhone 13 Reviews</td>\n",
       "      <td>Wonderful</td>\n",
       "    </tr>\n",
       "    <tr>\n",
       "      <th>5</th>\n",
       "      <td>5</td>\n",
       "      <td>Caseex Back Cover for Apple iPhone 13 Reviews</td>\n",
       "      <td>Awesome</td>\n",
       "    </tr>\n",
       "    <tr>\n",
       "      <th>6</th>\n",
       "      <td>6</td>\n",
       "      <td>Caseex Back Cover for Apple iPhone 13 Reviews</td>\n",
       "      <td>Not good</td>\n",
       "    </tr>\n",
       "    <tr>\n",
       "      <th>7</th>\n",
       "      <td>7</td>\n",
       "      <td>Caseex Back Cover for Apple iPhone 13 Reviews</td>\n",
       "      <td>Terrific</td>\n",
       "    </tr>\n",
       "    <tr>\n",
       "      <th>8</th>\n",
       "      <td>8</td>\n",
       "      <td>Caseex Back Cover for Apple iPhone 13 Reviews</td>\n",
       "      <td>Awesome</td>\n",
       "    </tr>\n",
       "    <tr>\n",
       "      <th>9</th>\n",
       "      <td>9</td>\n",
       "      <td>Caseex Back Cover for Apple iPhone 13 Reviews</td>\n",
       "      <td>Best in the market!</td>\n",
       "    </tr>\n",
       "  </tbody>\n",
       "</table>\n",
       "</div>"
      ],
      "text/plain": [
       "   Unnamed: 0                                  product_title  \\\n",
       "0           0  Caseex Back Cover for Apple iPhone 13 Reviews   \n",
       "1           1  Caseex Back Cover for Apple iPhone 13 Reviews   \n",
       "2           2  Caseex Back Cover for Apple iPhone 13 Reviews   \n",
       "3           3  Caseex Back Cover for Apple iPhone 13 Reviews   \n",
       "4           4  Caseex Back Cover for Apple iPhone 13 Reviews   \n",
       "5           5  Caseex Back Cover for Apple iPhone 13 Reviews   \n",
       "6           6  Caseex Back Cover for Apple iPhone 13 Reviews   \n",
       "7           7  Caseex Back Cover for Apple iPhone 13 Reviews   \n",
       "8           8  Caseex Back Cover for Apple iPhone 13 Reviews   \n",
       "9           9  Caseex Back Cover for Apple iPhone 13 Reviews   \n",
       "\n",
       "                  reviews  \n",
       "0                  Super!  \n",
       "1  Not recommended at all  \n",
       "2        Perfect product!  \n",
       "3               Wonderful  \n",
       "4               Wonderful  \n",
       "5                 Awesome  \n",
       "6                Not good  \n",
       "7                Terrific  \n",
       "8                 Awesome  \n",
       "9     Best in the market!  "
      ]
     },
     "execution_count": 33,
     "metadata": {},
     "output_type": "execute_result"
    }
   ],
   "source": [
    "df13=ps.read_csv(r\"D:\\capstone\\2\\vivo.csv\")\n",
    "df13.head(10)"
   ]
  },
  {
   "cell_type": "code",
   "execution_count": 34,
   "id": "49f88037",
   "metadata": {},
   "outputs": [
    {
     "data": {
      "text/html": [
       "<div>\n",
       "<style scoped>\n",
       "    .dataframe tbody tr th:only-of-type {\n",
       "        vertical-align: middle;\n",
       "    }\n",
       "\n",
       "    .dataframe tbody tr th {\n",
       "        vertical-align: top;\n",
       "    }\n",
       "\n",
       "    .dataframe thead th {\n",
       "        text-align: right;\n",
       "    }\n",
       "</style>\n",
       "<table border=\"1\" class=\"dataframe\">\n",
       "  <thead>\n",
       "    <tr style=\"text-align: right;\">\n",
       "      <th></th>\n",
       "      <th>Unnamed: 0</th>\n",
       "      <th>product_title</th>\n",
       "      <th>reviews</th>\n",
       "    </tr>\n",
       "  </thead>\n",
       "  <tbody>\n",
       "    <tr>\n",
       "      <th>0</th>\n",
       "      <td>0</td>\n",
       "      <td>CEDO XPRO Flip Cover for Vivo T1 Pro, IQoo Z6 ...</td>\n",
       "      <td>Great product</td>\n",
       "    </tr>\n",
       "    <tr>\n",
       "      <th>1</th>\n",
       "      <td>1</td>\n",
       "      <td>CEDO XPRO Flip Cover for Vivo T1 Pro, IQoo Z6 ...</td>\n",
       "      <td>Worth the money</td>\n",
       "    </tr>\n",
       "    <tr>\n",
       "      <th>2</th>\n",
       "      <td>2</td>\n",
       "      <td>CEDO XPRO Flip Cover for Vivo T1 Pro, IQoo Z6 ...</td>\n",
       "      <td>Nice</td>\n",
       "    </tr>\n",
       "    <tr>\n",
       "      <th>3</th>\n",
       "      <td>3</td>\n",
       "      <td>CEDO XPRO Flip Cover for Vivo T1 Pro, IQoo Z6 ...</td>\n",
       "      <td>Simply awesome</td>\n",
       "    </tr>\n",
       "    <tr>\n",
       "      <th>4</th>\n",
       "      <td>4</td>\n",
       "      <td>CEDO XPRO Flip Cover for Vivo T1 Pro, IQoo Z6 ...</td>\n",
       "      <td>Just wow!</td>\n",
       "    </tr>\n",
       "    <tr>\n",
       "      <th>5</th>\n",
       "      <td>5</td>\n",
       "      <td>CEDO XPRO Flip Cover for Vivo T1 Pro, IQoo Z6 ...</td>\n",
       "      <td>Excellent</td>\n",
       "    </tr>\n",
       "    <tr>\n",
       "      <th>6</th>\n",
       "      <td>6</td>\n",
       "      <td>CEDO XPRO Flip Cover for Vivo T1 Pro, IQoo Z6 ...</td>\n",
       "      <td>Super!</td>\n",
       "    </tr>\n",
       "    <tr>\n",
       "      <th>7</th>\n",
       "      <td>7</td>\n",
       "      <td>CEDO XPRO Flip Cover for Vivo T1 Pro, IQoo Z6 ...</td>\n",
       "      <td>Perfect product!</td>\n",
       "    </tr>\n",
       "    <tr>\n",
       "      <th>8</th>\n",
       "      <td>8</td>\n",
       "      <td>CEDO XPRO Flip Cover for Vivo T1 Pro, IQoo Z6 ...</td>\n",
       "      <td>Mind-blowing purchase</td>\n",
       "    </tr>\n",
       "    <tr>\n",
       "      <th>9</th>\n",
       "      <td>9</td>\n",
       "      <td>CEDO XPRO Flip Cover for Vivo T1 Pro, IQoo Z6 ...</td>\n",
       "      <td>Brilliant</td>\n",
       "    </tr>\n",
       "  </tbody>\n",
       "</table>\n",
       "</div>"
      ],
      "text/plain": [
       "   Unnamed: 0                                      product_title  \\\n",
       "0           0  CEDO XPRO Flip Cover for Vivo T1 Pro, IQoo Z6 ...   \n",
       "1           1  CEDO XPRO Flip Cover for Vivo T1 Pro, IQoo Z6 ...   \n",
       "2           2  CEDO XPRO Flip Cover for Vivo T1 Pro, IQoo Z6 ...   \n",
       "3           3  CEDO XPRO Flip Cover for Vivo T1 Pro, IQoo Z6 ...   \n",
       "4           4  CEDO XPRO Flip Cover for Vivo T1 Pro, IQoo Z6 ...   \n",
       "5           5  CEDO XPRO Flip Cover for Vivo T1 Pro, IQoo Z6 ...   \n",
       "6           6  CEDO XPRO Flip Cover for Vivo T1 Pro, IQoo Z6 ...   \n",
       "7           7  CEDO XPRO Flip Cover for Vivo T1 Pro, IQoo Z6 ...   \n",
       "8           8  CEDO XPRO Flip Cover for Vivo T1 Pro, IQoo Z6 ...   \n",
       "9           9  CEDO XPRO Flip Cover for Vivo T1 Pro, IQoo Z6 ...   \n",
       "\n",
       "                 reviews  \n",
       "0          Great product  \n",
       "1        Worth the money  \n",
       "2                   Nice  \n",
       "3         Simply awesome  \n",
       "4              Just wow!  \n",
       "5              Excellent  \n",
       "6                 Super!  \n",
       "7       Perfect product!  \n",
       "8  Mind-blowing purchase  \n",
       "9              Brilliant  "
      ]
     },
     "execution_count": 34,
     "metadata": {},
     "output_type": "execute_result"
    }
   ],
   "source": [
    "df14=ps.read_csv(r\"D:\\capstone\\2\\accessories.csv\")\n",
    "df14.head(10)"
   ]
  },
  {
   "cell_type": "code",
   "execution_count": 38,
   "id": "5acf9d1f",
   "metadata": {},
   "outputs": [
    {
     "data": {
      "text/html": [
       "<div>\n",
       "<style scoped>\n",
       "    .dataframe tbody tr th:only-of-type {\n",
       "        vertical-align: middle;\n",
       "    }\n",
       "\n",
       "    .dataframe tbody tr th {\n",
       "        vertical-align: top;\n",
       "    }\n",
       "\n",
       "    .dataframe thead th {\n",
       "        text-align: right;\n",
       "    }\n",
       "</style>\n",
       "<table border=\"1\" class=\"dataframe\">\n",
       "  <thead>\n",
       "    <tr style=\"text-align: right;\">\n",
       "      <th></th>\n",
       "      <th>Unnamed: 0</th>\n",
       "      <th>product_title</th>\n",
       "      <th>reviews</th>\n",
       "    </tr>\n",
       "  </thead>\n",
       "  <tbody>\n",
       "    <tr>\n",
       "      <th>0</th>\n",
       "      <td>0</td>\n",
       "      <td>Aroma NB119C Carter 48 Hours Playing Time Fast...</td>\n",
       "      <td>Value-for-money</td>\n",
       "    </tr>\n",
       "    <tr>\n",
       "      <th>1</th>\n",
       "      <td>1</td>\n",
       "      <td>Aroma NB119C Carter 48 Hours Playing Time Fast...</td>\n",
       "      <td>Terrific purchase</td>\n",
       "    </tr>\n",
       "    <tr>\n",
       "      <th>2</th>\n",
       "      <td>2</td>\n",
       "      <td>Aroma NB119C Carter 48 Hours Playing Time Fast...</td>\n",
       "      <td>Value-for-money</td>\n",
       "    </tr>\n",
       "    <tr>\n",
       "      <th>3</th>\n",
       "      <td>3</td>\n",
       "      <td>Aroma NB119C Carter 48 Hours Playing Time Fast...</td>\n",
       "      <td>Wonderful</td>\n",
       "    </tr>\n",
       "    <tr>\n",
       "      <th>4</th>\n",
       "      <td>4</td>\n",
       "      <td>Aroma NB119C Carter 48 Hours Playing Time Fast...</td>\n",
       "      <td>Wonderful</td>\n",
       "    </tr>\n",
       "    <tr>\n",
       "      <th>5</th>\n",
       "      <td>5</td>\n",
       "      <td>Aroma NB119C Carter 48 Hours Playing Time Fast...</td>\n",
       "      <td>Awesome</td>\n",
       "    </tr>\n",
       "    <tr>\n",
       "      <th>6</th>\n",
       "      <td>6</td>\n",
       "      <td>Aroma NB119C Carter 48 Hours Playing Time Fast...</td>\n",
       "      <td>Nice product</td>\n",
       "    </tr>\n",
       "    <tr>\n",
       "      <th>7</th>\n",
       "      <td>7</td>\n",
       "      <td>Aroma NB119C Carter 48 Hours Playing Time Fast...</td>\n",
       "      <td>Does the job</td>\n",
       "    </tr>\n",
       "    <tr>\n",
       "      <th>8</th>\n",
       "      <td>8</td>\n",
       "      <td>Aroma NB119C Carter 48 Hours Playing Time Fast...</td>\n",
       "      <td>Fabulous!</td>\n",
       "    </tr>\n",
       "    <tr>\n",
       "      <th>9</th>\n",
       "      <td>9</td>\n",
       "      <td>Aroma NB119C Carter 48 Hours Playing Time Fast...</td>\n",
       "      <td>Great product</td>\n",
       "    </tr>\n",
       "  </tbody>\n",
       "</table>\n",
       "</div>"
      ],
      "text/plain": [
       "   Unnamed: 0                                      product_title  \\\n",
       "0           0  Aroma NB119C Carter 48 Hours Playing Time Fast...   \n",
       "1           1  Aroma NB119C Carter 48 Hours Playing Time Fast...   \n",
       "2           2  Aroma NB119C Carter 48 Hours Playing Time Fast...   \n",
       "3           3  Aroma NB119C Carter 48 Hours Playing Time Fast...   \n",
       "4           4  Aroma NB119C Carter 48 Hours Playing Time Fast...   \n",
       "5           5  Aroma NB119C Carter 48 Hours Playing Time Fast...   \n",
       "6           6  Aroma NB119C Carter 48 Hours Playing Time Fast...   \n",
       "7           7  Aroma NB119C Carter 48 Hours Playing Time Fast...   \n",
       "8           8  Aroma NB119C Carter 48 Hours Playing Time Fast...   \n",
       "9           9  Aroma NB119C Carter 48 Hours Playing Time Fast...   \n",
       "\n",
       "             reviews  \n",
       "0    Value-for-money  \n",
       "1  Terrific purchase  \n",
       "2    Value-for-money  \n",
       "3          Wonderful  \n",
       "4          Wonderful  \n",
       "5            Awesome  \n",
       "6       Nice product  \n",
       "7       Does the job  \n",
       "8          Fabulous!  \n",
       "9      Great product  "
      ]
     },
     "execution_count": 38,
     "metadata": {},
     "output_type": "execute_result"
    }
   ],
   "source": [
    "df15=ps.read_csv(r\"D:\\capstone\\2\\earphones.csv\")\n",
    "df15.head(10)"
   ]
  },
  {
   "cell_type": "code",
   "execution_count": 39,
   "id": "ad4a4869",
   "metadata": {},
   "outputs": [
    {
     "data": {
      "text/html": [
       "<div>\n",
       "<style scoped>\n",
       "    .dataframe tbody tr th:only-of-type {\n",
       "        vertical-align: middle;\n",
       "    }\n",
       "\n",
       "    .dataframe tbody tr th {\n",
       "        vertical-align: top;\n",
       "    }\n",
       "\n",
       "    .dataframe thead th {\n",
       "        text-align: right;\n",
       "    }\n",
       "</style>\n",
       "<table border=\"1\" class=\"dataframe\">\n",
       "  <thead>\n",
       "    <tr style=\"text-align: right;\">\n",
       "      <th></th>\n",
       "      <th>Unnamed: 0</th>\n",
       "      <th>product_title</th>\n",
       "      <th>reviews</th>\n",
       "    </tr>\n",
       "  </thead>\n",
       "  <tbody>\n",
       "    <tr>\n",
       "      <th>0</th>\n",
       "      <td>0</td>\n",
       "      <td>InnoQ 6.5 Kg Semi Automatic Top Load Washing M...</td>\n",
       "      <td>Best in the market!</td>\n",
       "    </tr>\n",
       "    <tr>\n",
       "      <th>1</th>\n",
       "      <td>1</td>\n",
       "      <td>InnoQ 6.5 Kg Semi Automatic Top Load Washing M...</td>\n",
       "      <td>Great product</td>\n",
       "    </tr>\n",
       "    <tr>\n",
       "      <th>2</th>\n",
       "      <td>2</td>\n",
       "      <td>InnoQ 6.5 Kg Semi Automatic Top Load Washing M...</td>\n",
       "      <td>Super!</td>\n",
       "    </tr>\n",
       "    <tr>\n",
       "      <th>3</th>\n",
       "      <td>3</td>\n",
       "      <td>InnoQ 6.5 Kg Semi Automatic Top Load Washing M...</td>\n",
       "      <td>Worth every penny</td>\n",
       "    </tr>\n",
       "    <tr>\n",
       "      <th>4</th>\n",
       "      <td>4</td>\n",
       "      <td>InnoQ 6.5 Kg Semi Automatic Top Load Washing M...</td>\n",
       "      <td>Just wow!</td>\n",
       "    </tr>\n",
       "  </tbody>\n",
       "</table>\n",
       "</div>"
      ],
      "text/plain": [
       "   Unnamed: 0                                      product_title  \\\n",
       "0           0  InnoQ 6.5 Kg Semi Automatic Top Load Washing M...   \n",
       "1           1  InnoQ 6.5 Kg Semi Automatic Top Load Washing M...   \n",
       "2           2  InnoQ 6.5 Kg Semi Automatic Top Load Washing M...   \n",
       "3           3  InnoQ 6.5 Kg Semi Automatic Top Load Washing M...   \n",
       "4           4  InnoQ 6.5 Kg Semi Automatic Top Load Washing M...   \n",
       "\n",
       "               reviews  \n",
       "0  Best in the market!  \n",
       "1        Great product  \n",
       "2               Super!  \n",
       "3    Worth every penny  \n",
       "4            Just wow!  "
      ]
     },
     "execution_count": 39,
     "metadata": {},
     "output_type": "execute_result"
    }
   ],
   "source": [
    "fd=ps.concat([df, df1, df2, df3, df4,df5,df6,df7,df8,df9,df10,df11,df12,df13,df14,df15],ignore_index=True)\n",
    "fd.head()"
   ]
  },
  {
   "cell_type": "code",
   "execution_count": 40,
   "id": "043e47fa",
   "metadata": {},
   "outputs": [
    {
     "data": {
      "text/plain": [
       "(309390, 3)"
      ]
     },
     "execution_count": 40,
     "metadata": {},
     "output_type": "execute_result"
    }
   ],
   "source": [
    "fd.shape"
   ]
  },
  {
   "cell_type": "code",
   "execution_count": 41,
   "id": "7d7c2eff",
   "metadata": {},
   "outputs": [],
   "source": [
    "fd.reset_index(inplace=True)"
   ]
  },
  {
   "cell_type": "code",
   "execution_count": 42,
   "id": "b4505f25",
   "metadata": {},
   "outputs": [
    {
     "data": {
      "text/html": [
       "<div>\n",
       "<style scoped>\n",
       "    .dataframe tbody tr th:only-of-type {\n",
       "        vertical-align: middle;\n",
       "    }\n",
       "\n",
       "    .dataframe tbody tr th {\n",
       "        vertical-align: top;\n",
       "    }\n",
       "\n",
       "    .dataframe thead th {\n",
       "        text-align: right;\n",
       "    }\n",
       "</style>\n",
       "<table border=\"1\" class=\"dataframe\">\n",
       "  <thead>\n",
       "    <tr style=\"text-align: right;\">\n",
       "      <th></th>\n",
       "      <th>index</th>\n",
       "      <th>Unnamed: 0</th>\n",
       "      <th>product_title</th>\n",
       "      <th>reviews</th>\n",
       "    </tr>\n",
       "  </thead>\n",
       "  <tbody>\n",
       "    <tr>\n",
       "      <th>0</th>\n",
       "      <td>0</td>\n",
       "      <td>0</td>\n",
       "      <td>InnoQ 6.5 Kg Semi Automatic Top Load Washing M...</td>\n",
       "      <td>Best in the market!</td>\n",
       "    </tr>\n",
       "    <tr>\n",
       "      <th>1</th>\n",
       "      <td>1</td>\n",
       "      <td>1</td>\n",
       "      <td>InnoQ 6.5 Kg Semi Automatic Top Load Washing M...</td>\n",
       "      <td>Great product</td>\n",
       "    </tr>\n",
       "    <tr>\n",
       "      <th>2</th>\n",
       "      <td>2</td>\n",
       "      <td>2</td>\n",
       "      <td>InnoQ 6.5 Kg Semi Automatic Top Load Washing M...</td>\n",
       "      <td>Super!</td>\n",
       "    </tr>\n",
       "    <tr>\n",
       "      <th>3</th>\n",
       "      <td>3</td>\n",
       "      <td>3</td>\n",
       "      <td>InnoQ 6.5 Kg Semi Automatic Top Load Washing M...</td>\n",
       "      <td>Worth every penny</td>\n",
       "    </tr>\n",
       "    <tr>\n",
       "      <th>4</th>\n",
       "      <td>4</td>\n",
       "      <td>4</td>\n",
       "      <td>InnoQ 6.5 Kg Semi Automatic Top Load Washing M...</td>\n",
       "      <td>Just wow!</td>\n",
       "    </tr>\n",
       "  </tbody>\n",
       "</table>\n",
       "</div>"
      ],
      "text/plain": [
       "   index  Unnamed: 0                                      product_title  \\\n",
       "0      0           0  InnoQ 6.5 Kg Semi Automatic Top Load Washing M...   \n",
       "1      1           1  InnoQ 6.5 Kg Semi Automatic Top Load Washing M...   \n",
       "2      2           2  InnoQ 6.5 Kg Semi Automatic Top Load Washing M...   \n",
       "3      3           3  InnoQ 6.5 Kg Semi Automatic Top Load Washing M...   \n",
       "4      4           4  InnoQ 6.5 Kg Semi Automatic Top Load Washing M...   \n",
       "\n",
       "               reviews  \n",
       "0  Best in the market!  \n",
       "1        Great product  \n",
       "2               Super!  \n",
       "3    Worth every penny  \n",
       "4            Just wow!  "
      ]
     },
     "execution_count": 42,
     "metadata": {},
     "output_type": "execute_result"
    }
   ],
   "source": [
    "fd.head()"
   ]
  },
  {
   "cell_type": "code",
   "execution_count": 43,
   "id": "a54b4977",
   "metadata": {},
   "outputs": [
    {
     "data": {
      "text/plain": [
       "(309390, 4)"
      ]
     },
     "execution_count": 43,
     "metadata": {},
     "output_type": "execute_result"
    }
   ],
   "source": [
    "fd.shape"
   ]
  },
  {
   "cell_type": "code",
   "execution_count": 44,
   "id": "ceb959b7",
   "metadata": {},
   "outputs": [],
   "source": [
    "fd.drop([\"Unnamed: 0\"],axis=1,inplace=True)"
   ]
  },
  {
   "cell_type": "code",
   "execution_count": 45,
   "id": "ae4f584f",
   "metadata": {},
   "outputs": [
    {
     "name": "stdout",
     "output_type": "stream",
     "text": [
      "Awesome\n"
     ]
    }
   ],
   "source": [
    "example = fd['reviews'][69]\n",
    "print(example)"
   ]
  },
  {
   "cell_type": "code",
   "execution_count": 46,
   "id": "ba9559b0",
   "metadata": {},
   "outputs": [
    {
     "data": {
      "text/plain": [
       "0         Best in the market!\n",
       "1               Great product\n",
       "2                      Super!\n",
       "3           Worth every penny\n",
       "4                   Just wow!\n",
       "                 ...         \n",
       "309385               Moderate\n",
       "309386         Simply awesome\n",
       "309387         Unsatisfactory\n",
       "309388        Waste of money!\n",
       "309389                 Super!\n",
       "Name: reviews, Length: 309390, dtype: object"
      ]
     },
     "execution_count": 46,
     "metadata": {},
     "output_type": "execute_result"
    }
   ],
   "source": [
    "fd['reviews']"
   ]
  },
  {
   "cell_type": "code",
   "execution_count": 47,
   "id": "a4e3bd44",
   "metadata": {
    "scrolled": true
   },
   "outputs": [
    {
     "data": {
      "text/plain": [
       "['Awesome']"
      ]
     },
     "execution_count": 47,
     "metadata": {},
     "output_type": "execute_result"
    }
   ],
   "source": [
    "tokens = nltk.word_tokenize(example)\n",
    "tokens[:10]"
   ]
  },
  {
   "cell_type": "code",
   "execution_count": 48,
   "id": "334f2998",
   "metadata": {},
   "outputs": [
    {
     "data": {
      "text/plain": [
       "[('Awesome', 'NNP')]"
      ]
     },
     "execution_count": 48,
     "metadata": {},
     "output_type": "execute_result"
    }
   ],
   "source": [
    "tagged = nltk.pos_tag(tokens)\n",
    "tagged[:10]"
   ]
  },
  {
   "cell_type": "code",
   "execution_count": 49,
   "id": "be2521e3",
   "metadata": {},
   "outputs": [
    {
     "name": "stdout",
     "output_type": "stream",
     "text": [
      "(S (GPE Awesome/NNP))\n"
     ]
    }
   ],
   "source": [
    "entities = nltk.chunk.ne_chunk(tagged)\n",
    "entities.pprint()"
   ]
  },
  {
   "cell_type": "code",
   "execution_count": 50,
   "id": "7526af0f",
   "metadata": {
    "scrolled": true
   },
   "outputs": [
    {
     "data": {
      "text/html": [
       "<div>\n",
       "<style scoped>\n",
       "    .dataframe tbody tr th:only-of-type {\n",
       "        vertical-align: middle;\n",
       "    }\n",
       "\n",
       "    .dataframe tbody tr th {\n",
       "        vertical-align: top;\n",
       "    }\n",
       "\n",
       "    .dataframe thead th {\n",
       "        text-align: right;\n",
       "    }\n",
       "</style>\n",
       "<table border=\"1\" class=\"dataframe\">\n",
       "  <thead>\n",
       "    <tr style=\"text-align: right;\">\n",
       "      <th></th>\n",
       "      <th>index</th>\n",
       "      <th>product_title</th>\n",
       "      <th>reviews</th>\n",
       "    </tr>\n",
       "  </thead>\n",
       "  <tbody>\n",
       "    <tr>\n",
       "      <th>0</th>\n",
       "      <td>0</td>\n",
       "      <td>InnoQ 6.5 Kg Semi Automatic Top Load Washing M...</td>\n",
       "      <td>Best in the market!</td>\n",
       "    </tr>\n",
       "    <tr>\n",
       "      <th>1</th>\n",
       "      <td>1</td>\n",
       "      <td>InnoQ 6.5 Kg Semi Automatic Top Load Washing M...</td>\n",
       "      <td>Great product</td>\n",
       "    </tr>\n",
       "    <tr>\n",
       "      <th>2</th>\n",
       "      <td>2</td>\n",
       "      <td>InnoQ 6.5 Kg Semi Automatic Top Load Washing M...</td>\n",
       "      <td>Super!</td>\n",
       "    </tr>\n",
       "    <tr>\n",
       "      <th>3</th>\n",
       "      <td>3</td>\n",
       "      <td>InnoQ 6.5 Kg Semi Automatic Top Load Washing M...</td>\n",
       "      <td>Worth every penny</td>\n",
       "    </tr>\n",
       "    <tr>\n",
       "      <th>4</th>\n",
       "      <td>4</td>\n",
       "      <td>InnoQ 6.5 Kg Semi Automatic Top Load Washing M...</td>\n",
       "      <td>Just wow!</td>\n",
       "    </tr>\n",
       "  </tbody>\n",
       "</table>\n",
       "</div>"
      ],
      "text/plain": [
       "   index                                      product_title  \\\n",
       "0      0  InnoQ 6.5 Kg Semi Automatic Top Load Washing M...   \n",
       "1      1  InnoQ 6.5 Kg Semi Automatic Top Load Washing M...   \n",
       "2      2  InnoQ 6.5 Kg Semi Automatic Top Load Washing M...   \n",
       "3      3  InnoQ 6.5 Kg Semi Automatic Top Load Washing M...   \n",
       "4      4  InnoQ 6.5 Kg Semi Automatic Top Load Washing M...   \n",
       "\n",
       "               reviews  \n",
       "0  Best in the market!  \n",
       "1        Great product  \n",
       "2               Super!  \n",
       "3    Worth every penny  \n",
       "4            Just wow!  "
      ]
     },
     "execution_count": 50,
     "metadata": {},
     "output_type": "execute_result"
    }
   ],
   "source": [
    "fd.head()"
   ]
  },
  {
   "cell_type": "code",
   "execution_count": 51,
   "id": "37ed97c6",
   "metadata": {},
   "outputs": [],
   "source": [
    "fd.drop([\"index\"],axis=1,inplace=True)"
   ]
  },
  {
   "cell_type": "code",
   "execution_count": 52,
   "id": "d3c4c9b4",
   "metadata": {},
   "outputs": [],
   "source": [
    "from nltk.sentiment.vader import SentimentIntensityAnalyzer\n",
    "\n",
    "sia = SentimentIntensityAnalyzer()"
   ]
  },
  {
   "cell_type": "code",
   "execution_count": 53,
   "id": "1b6b9e46",
   "metadata": {},
   "outputs": [
    {
     "data": {
      "text/plain": [
       "{'neg': 0.594, 'neu': 0.406, 'pos': 0.0, 'compound': -0.6588}"
      ]
     },
     "execution_count": 53,
     "metadata": {},
     "output_type": "execute_result"
    }
   ],
   "source": [
    "sia.polarity_scores('I am at my worst!')"
   ]
  },
  {
   "cell_type": "code",
   "execution_count": 54,
   "id": "a963105f",
   "metadata": {},
   "outputs": [
    {
     "data": {
      "text/plain": [
       "{'neg': 0.0, 'neu': 0.318, 'pos': 0.682, 'compound': 0.6468}"
      ]
     },
     "execution_count": 54,
     "metadata": {},
     "output_type": "execute_result"
    }
   ],
   "source": [
    "sia.polarity_scores('I am so happy!')"
   ]
  },
  {
   "cell_type": "code",
   "execution_count": 55,
   "id": "c8738b6b",
   "metadata": {},
   "outputs": [
    {
     "data": {
      "text/plain": [
       "{'neg': 0.0, 'neu': 0.0, 'pos': 1.0, 'compound': 0.6249}"
      ]
     },
     "execution_count": 55,
     "metadata": {},
     "output_type": "execute_result"
    }
   ],
   "source": [
    "sia.polarity_scores(fd.iloc[69]['reviews'])"
   ]
  },
  {
   "cell_type": "code",
   "execution_count": 56,
   "id": "8a8f29bc",
   "metadata": {},
   "outputs": [
    {
     "data": {
      "text/plain": [
       "reviews\n",
       "Wonderful                                             15811\n",
       "Great product                                         11185\n",
       "Must buy!                                             10970\n",
       "Classy product                                        10838\n",
       "Best in the market!                                   10557\n",
       "                                                      ...  \n",
       "Instead if we go for Honor 4x it better and cheap         1\n",
       "one pluse one is the best one...                          1\n",
       "Fake information about this phone                         1\n",
       "Not worth the price.  Seems like 9-10k value phone        1\n",
       "Amazingly awesome                                         1\n",
       "Name: count, Length: 2455, dtype: int64"
      ]
     },
     "execution_count": 56,
     "metadata": {},
     "output_type": "execute_result"
    }
   ],
   "source": [
    "fd[\"reviews\"].value_counts()"
   ]
  },
  {
   "cell_type": "code",
   "execution_count": 57,
   "id": "a494a0c4",
   "metadata": {},
   "outputs": [
    {
     "data": {
      "text/plain": [
       "'Brilliant'"
      ]
     },
     "execution_count": 57,
     "metadata": {},
     "output_type": "execute_result"
    }
   ],
   "source": [
    "fd.iloc[60]['reviews']"
   ]
  },
  {
   "cell_type": "code",
   "execution_count": 58,
   "id": "89f0be4b",
   "metadata": {
    "scrolled": true
   },
   "outputs": [
    {
     "data": {
      "text/html": [
       "<div>\n",
       "<style scoped>\n",
       "    .dataframe tbody tr th:only-of-type {\n",
       "        vertical-align: middle;\n",
       "    }\n",
       "\n",
       "    .dataframe tbody tr th {\n",
       "        vertical-align: top;\n",
       "    }\n",
       "\n",
       "    .dataframe thead th {\n",
       "        text-align: right;\n",
       "    }\n",
       "</style>\n",
       "<table border=\"1\" class=\"dataframe\">\n",
       "  <thead>\n",
       "    <tr style=\"text-align: right;\">\n",
       "      <th></th>\n",
       "      <th>product_title</th>\n",
       "      <th>reviews</th>\n",
       "      <th>scores</th>\n",
       "    </tr>\n",
       "  </thead>\n",
       "  <tbody>\n",
       "    <tr>\n",
       "      <th>0</th>\n",
       "      <td>InnoQ 6.5 Kg Semi Automatic Top Load Washing M...</td>\n",
       "      <td>Best in the market!</td>\n",
       "      <td>{'neg': 0.0, 'neu': 0.4, 'pos': 0.6, 'compound...</td>\n",
       "    </tr>\n",
       "    <tr>\n",
       "      <th>1</th>\n",
       "      <td>InnoQ 6.5 Kg Semi Automatic Top Load Washing M...</td>\n",
       "      <td>Great product</td>\n",
       "      <td>{'neg': 0.0, 'neu': 0.196, 'pos': 0.804, 'comp...</td>\n",
       "    </tr>\n",
       "    <tr>\n",
       "      <th>2</th>\n",
       "      <td>InnoQ 6.5 Kg Semi Automatic Top Load Washing M...</td>\n",
       "      <td>Super!</td>\n",
       "      <td>{'neg': 0.0, 'neu': 0.0, 'pos': 1.0, 'compound...</td>\n",
       "    </tr>\n",
       "    <tr>\n",
       "      <th>3</th>\n",
       "      <td>InnoQ 6.5 Kg Semi Automatic Top Load Washing M...</td>\n",
       "      <td>Worth every penny</td>\n",
       "      <td>{'neg': 0.0, 'neu': 0.513, 'pos': 0.487, 'comp...</td>\n",
       "    </tr>\n",
       "    <tr>\n",
       "      <th>4</th>\n",
       "      <td>InnoQ 6.5 Kg Semi Automatic Top Load Washing M...</td>\n",
       "      <td>Just wow!</td>\n",
       "      <td>{'neg': 0.0, 'neu': 0.196, 'pos': 0.804, 'comp...</td>\n",
       "    </tr>\n",
       "  </tbody>\n",
       "</table>\n",
       "</div>"
      ],
      "text/plain": [
       "                                       product_title              reviews  \\\n",
       "0  InnoQ 6.5 Kg Semi Automatic Top Load Washing M...  Best in the market!   \n",
       "1  InnoQ 6.5 Kg Semi Automatic Top Load Washing M...        Great product   \n",
       "2  InnoQ 6.5 Kg Semi Automatic Top Load Washing M...               Super!   \n",
       "3  InnoQ 6.5 Kg Semi Automatic Top Load Washing M...    Worth every penny   \n",
       "4  InnoQ 6.5 Kg Semi Automatic Top Load Washing M...            Just wow!   \n",
       "\n",
       "                                              scores  \n",
       "0  {'neg': 0.0, 'neu': 0.4, 'pos': 0.6, 'compound...  \n",
       "1  {'neg': 0.0, 'neu': 0.196, 'pos': 0.804, 'comp...  \n",
       "2  {'neg': 0.0, 'neu': 0.0, 'pos': 1.0, 'compound...  \n",
       "3  {'neg': 0.0, 'neu': 0.513, 'pos': 0.487, 'comp...  \n",
       "4  {'neg': 0.0, 'neu': 0.196, 'pos': 0.804, 'comp...  "
      ]
     },
     "execution_count": 58,
     "metadata": {},
     "output_type": "execute_result"
    }
   ],
   "source": [
    "fd['scores'] = fd['reviews'].apply(lambda reviews: sia.polarity_scores(reviews) if not isinstance(reviews, float) else None)\n",
    "\n",
    "fd.head()"
   ]
  },
  {
   "cell_type": "code",
   "execution_count": 59,
   "id": "004b2c83",
   "metadata": {},
   "outputs": [
    {
     "data": {
      "text/plain": [
       "(309390, 3)"
      ]
     },
     "execution_count": 59,
     "metadata": {},
     "output_type": "execute_result"
    }
   ],
   "source": [
    "fd.shape"
   ]
  },
  {
   "cell_type": "code",
   "execution_count": 60,
   "id": "d46bc068",
   "metadata": {},
   "outputs": [
    {
     "data": {
      "text/plain": [
       "0         False\n",
       "1         False\n",
       "2         False\n",
       "3         False\n",
       "4         False\n",
       "          ...  \n",
       "309385    False\n",
       "309386    False\n",
       "309387    False\n",
       "309388    False\n",
       "309389    False\n",
       "Name: reviews, Length: 309390, dtype: bool"
      ]
     },
     "execution_count": 60,
     "metadata": {},
     "output_type": "execute_result"
    }
   ],
   "source": [
    "fd['reviews']==\"no name\""
   ]
  },
  {
   "cell_type": "code",
   "execution_count": 61,
   "id": "4790666e",
   "metadata": {},
   "outputs": [
    {
     "data": {
      "text/html": [
       "<div>\n",
       "<style scoped>\n",
       "    .dataframe tbody tr th:only-of-type {\n",
       "        vertical-align: middle;\n",
       "    }\n",
       "\n",
       "    .dataframe tbody tr th {\n",
       "        vertical-align: top;\n",
       "    }\n",
       "\n",
       "    .dataframe thead th {\n",
       "        text-align: right;\n",
       "    }\n",
       "</style>\n",
       "<table border=\"1\" class=\"dataframe\">\n",
       "  <thead>\n",
       "    <tr style=\"text-align: right;\">\n",
       "      <th></th>\n",
       "      <th>product_title</th>\n",
       "      <th>reviews</th>\n",
       "      <th>scores</th>\n",
       "      <th>compound</th>\n",
       "    </tr>\n",
       "  </thead>\n",
       "  <tbody>\n",
       "    <tr>\n",
       "      <th>0</th>\n",
       "      <td>InnoQ 6.5 Kg Semi Automatic Top Load Washing M...</td>\n",
       "      <td>Best in the market!</td>\n",
       "      <td>{'neg': 0.0, 'neu': 0.4, 'pos': 0.6, 'compound...</td>\n",
       "      <td>0.6696</td>\n",
       "    </tr>\n",
       "    <tr>\n",
       "      <th>1</th>\n",
       "      <td>InnoQ 6.5 Kg Semi Automatic Top Load Washing M...</td>\n",
       "      <td>Great product</td>\n",
       "      <td>{'neg': 0.0, 'neu': 0.196, 'pos': 0.804, 'comp...</td>\n",
       "      <td>0.6249</td>\n",
       "    </tr>\n",
       "    <tr>\n",
       "      <th>2</th>\n",
       "      <td>InnoQ 6.5 Kg Semi Automatic Top Load Washing M...</td>\n",
       "      <td>Super!</td>\n",
       "      <td>{'neg': 0.0, 'neu': 0.0, 'pos': 1.0, 'compound...</td>\n",
       "      <td>0.6360</td>\n",
       "    </tr>\n",
       "    <tr>\n",
       "      <th>3</th>\n",
       "      <td>InnoQ 6.5 Kg Semi Automatic Top Load Washing M...</td>\n",
       "      <td>Worth every penny</td>\n",
       "      <td>{'neg': 0.0, 'neu': 0.513, 'pos': 0.487, 'comp...</td>\n",
       "      <td>0.2263</td>\n",
       "    </tr>\n",
       "    <tr>\n",
       "      <th>4</th>\n",
       "      <td>InnoQ 6.5 Kg Semi Automatic Top Load Washing M...</td>\n",
       "      <td>Just wow!</td>\n",
       "      <td>{'neg': 0.0, 'neu': 0.196, 'pos': 0.804, 'comp...</td>\n",
       "      <td>0.6239</td>\n",
       "    </tr>\n",
       "  </tbody>\n",
       "</table>\n",
       "</div>"
      ],
      "text/plain": [
       "                                       product_title              reviews  \\\n",
       "0  InnoQ 6.5 Kg Semi Automatic Top Load Washing M...  Best in the market!   \n",
       "1  InnoQ 6.5 Kg Semi Automatic Top Load Washing M...        Great product   \n",
       "2  InnoQ 6.5 Kg Semi Automatic Top Load Washing M...               Super!   \n",
       "3  InnoQ 6.5 Kg Semi Automatic Top Load Washing M...    Worth every penny   \n",
       "4  InnoQ 6.5 Kg Semi Automatic Top Load Washing M...            Just wow!   \n",
       "\n",
       "                                              scores  compound  \n",
       "0  {'neg': 0.0, 'neu': 0.4, 'pos': 0.6, 'compound...    0.6696  \n",
       "1  {'neg': 0.0, 'neu': 0.196, 'pos': 0.804, 'comp...    0.6249  \n",
       "2  {'neg': 0.0, 'neu': 0.0, 'pos': 1.0, 'compound...    0.6360  \n",
       "3  {'neg': 0.0, 'neu': 0.513, 'pos': 0.487, 'comp...    0.2263  \n",
       "4  {'neg': 0.0, 'neu': 0.196, 'pos': 0.804, 'comp...    0.6239  "
      ]
     },
     "execution_count": 61,
     "metadata": {},
     "output_type": "execute_result"
    }
   ],
   "source": [
    "fd['compound'] = fd['scores'].apply(lambda score_dict: score_dict['compound'] if score_dict is not None else None)\n",
    "fd.head()"
   ]
  },
  {
   "cell_type": "code",
   "execution_count": 62,
   "id": "700e39d1",
   "metadata": {},
   "outputs": [
    {
     "data": {
      "text/html": [
       "<div>\n",
       "<style scoped>\n",
       "    .dataframe tbody tr th:only-of-type {\n",
       "        vertical-align: middle;\n",
       "    }\n",
       "\n",
       "    .dataframe tbody tr th {\n",
       "        vertical-align: top;\n",
       "    }\n",
       "\n",
       "    .dataframe thead th {\n",
       "        text-align: right;\n",
       "    }\n",
       "</style>\n",
       "<table border=\"1\" class=\"dataframe\">\n",
       "  <thead>\n",
       "    <tr style=\"text-align: right;\">\n",
       "      <th></th>\n",
       "      <th>product_title</th>\n",
       "      <th>reviews</th>\n",
       "      <th>scores</th>\n",
       "      <th>compound</th>\n",
       "      <th>comp_score</th>\n",
       "    </tr>\n",
       "  </thead>\n",
       "  <tbody>\n",
       "    <tr>\n",
       "      <th>0</th>\n",
       "      <td>InnoQ 6.5 Kg Semi Automatic Top Load Washing M...</td>\n",
       "      <td>Best in the market!</td>\n",
       "      <td>{'neg': 0.0, 'neu': 0.4, 'pos': 0.6, 'compound...</td>\n",
       "      <td>0.6696</td>\n",
       "      <td>pos</td>\n",
       "    </tr>\n",
       "    <tr>\n",
       "      <th>1</th>\n",
       "      <td>InnoQ 6.5 Kg Semi Automatic Top Load Washing M...</td>\n",
       "      <td>Great product</td>\n",
       "      <td>{'neg': 0.0, 'neu': 0.196, 'pos': 0.804, 'comp...</td>\n",
       "      <td>0.6249</td>\n",
       "      <td>pos</td>\n",
       "    </tr>\n",
       "    <tr>\n",
       "      <th>2</th>\n",
       "      <td>InnoQ 6.5 Kg Semi Automatic Top Load Washing M...</td>\n",
       "      <td>Super!</td>\n",
       "      <td>{'neg': 0.0, 'neu': 0.0, 'pos': 1.0, 'compound...</td>\n",
       "      <td>0.6360</td>\n",
       "      <td>pos</td>\n",
       "    </tr>\n",
       "    <tr>\n",
       "      <th>3</th>\n",
       "      <td>InnoQ 6.5 Kg Semi Automatic Top Load Washing M...</td>\n",
       "      <td>Worth every penny</td>\n",
       "      <td>{'neg': 0.0, 'neu': 0.513, 'pos': 0.487, 'comp...</td>\n",
       "      <td>0.2263</td>\n",
       "      <td>pos</td>\n",
       "    </tr>\n",
       "    <tr>\n",
       "      <th>4</th>\n",
       "      <td>InnoQ 6.5 Kg Semi Automatic Top Load Washing M...</td>\n",
       "      <td>Just wow!</td>\n",
       "      <td>{'neg': 0.0, 'neu': 0.196, 'pos': 0.804, 'comp...</td>\n",
       "      <td>0.6239</td>\n",
       "      <td>pos</td>\n",
       "    </tr>\n",
       "    <tr>\n",
       "      <th>5</th>\n",
       "      <td>InnoQ 6.5 Kg Semi Automatic Top Load Washing M...</td>\n",
       "      <td>Super!</td>\n",
       "      <td>{'neg': 0.0, 'neu': 0.0, 'pos': 1.0, 'compound...</td>\n",
       "      <td>0.6360</td>\n",
       "      <td>pos</td>\n",
       "    </tr>\n",
       "    <tr>\n",
       "      <th>6</th>\n",
       "      <td>InnoQ 6.5 Kg Semi Automatic Top Load Washing M...</td>\n",
       "      <td>Awesome</td>\n",
       "      <td>{'neg': 0.0, 'neu': 0.0, 'pos': 1.0, 'compound...</td>\n",
       "      <td>0.6249</td>\n",
       "      <td>pos</td>\n",
       "    </tr>\n",
       "    <tr>\n",
       "      <th>7</th>\n",
       "      <td>InnoQ 6.5 Kg Semi Automatic Top Load Washing M...</td>\n",
       "      <td>Mind-blowing purchase</td>\n",
       "      <td>{'neg': 0.0, 'neu': 1.0, 'pos': 0.0, 'compound...</td>\n",
       "      <td>0.0000</td>\n",
       "      <td>pos</td>\n",
       "    </tr>\n",
       "    <tr>\n",
       "      <th>8</th>\n",
       "      <td>InnoQ 6.5 Kg Semi Automatic Top Load Washing M...</td>\n",
       "      <td>Great product</td>\n",
       "      <td>{'neg': 0.0, 'neu': 0.196, 'pos': 0.804, 'comp...</td>\n",
       "      <td>0.6249</td>\n",
       "      <td>pos</td>\n",
       "    </tr>\n",
       "    <tr>\n",
       "      <th>9</th>\n",
       "      <td>no name</td>\n",
       "      <td>Perfect product!</td>\n",
       "      <td>{'neg': 0.0, 'neu': 0.2, 'pos': 0.8, 'compound...</td>\n",
       "      <td>0.6114</td>\n",
       "      <td>pos</td>\n",
       "    </tr>\n",
       "  </tbody>\n",
       "</table>\n",
       "</div>"
      ],
      "text/plain": [
       "                                       product_title                reviews  \\\n",
       "0  InnoQ 6.5 Kg Semi Automatic Top Load Washing M...    Best in the market!   \n",
       "1  InnoQ 6.5 Kg Semi Automatic Top Load Washing M...          Great product   \n",
       "2  InnoQ 6.5 Kg Semi Automatic Top Load Washing M...                 Super!   \n",
       "3  InnoQ 6.5 Kg Semi Automatic Top Load Washing M...      Worth every penny   \n",
       "4  InnoQ 6.5 Kg Semi Automatic Top Load Washing M...              Just wow!   \n",
       "5  InnoQ 6.5 Kg Semi Automatic Top Load Washing M...                 Super!   \n",
       "6  InnoQ 6.5 Kg Semi Automatic Top Load Washing M...                Awesome   \n",
       "7  InnoQ 6.5 Kg Semi Automatic Top Load Washing M...  Mind-blowing purchase   \n",
       "8  InnoQ 6.5 Kg Semi Automatic Top Load Washing M...          Great product   \n",
       "9                                            no name       Perfect product!   \n",
       "\n",
       "                                              scores  compound comp_score  \n",
       "0  {'neg': 0.0, 'neu': 0.4, 'pos': 0.6, 'compound...    0.6696        pos  \n",
       "1  {'neg': 0.0, 'neu': 0.196, 'pos': 0.804, 'comp...    0.6249        pos  \n",
       "2  {'neg': 0.0, 'neu': 0.0, 'pos': 1.0, 'compound...    0.6360        pos  \n",
       "3  {'neg': 0.0, 'neu': 0.513, 'pos': 0.487, 'comp...    0.2263        pos  \n",
       "4  {'neg': 0.0, 'neu': 0.196, 'pos': 0.804, 'comp...    0.6239        pos  \n",
       "5  {'neg': 0.0, 'neu': 0.0, 'pos': 1.0, 'compound...    0.6360        pos  \n",
       "6  {'neg': 0.0, 'neu': 0.0, 'pos': 1.0, 'compound...    0.6249        pos  \n",
       "7  {'neg': 0.0, 'neu': 1.0, 'pos': 0.0, 'compound...    0.0000        pos  \n",
       "8  {'neg': 0.0, 'neu': 0.196, 'pos': 0.804, 'comp...    0.6249        pos  \n",
       "9  {'neg': 0.0, 'neu': 0.2, 'pos': 0.8, 'compound...    0.6114        pos  "
      ]
     },
     "execution_count": 62,
     "metadata": {},
     "output_type": "execute_result"
    }
   ],
   "source": [
    "fd['comp_score'] = fd['compound'].apply(lambda c: 'pos' if c >=0 else 'neg')\n",
    "\n",
    "fd.head(10)"
   ]
  },
  {
   "cell_type": "code",
   "execution_count": 63,
   "id": "722bfcbd",
   "metadata": {},
   "outputs": [
    {
     "data": {
      "text/plain": [
       "comp_score\n",
       "pos    280009\n",
       "neg     29381\n",
       "Name: count, dtype: int64"
      ]
     },
     "execution_count": 63,
     "metadata": {},
     "output_type": "execute_result"
    }
   ],
   "source": [
    "fd.comp_score.value_counts()"
   ]
  },
  {
   "cell_type": "code",
   "execution_count": 64,
   "id": "2919f26b",
   "metadata": {},
   "outputs": [
    {
     "data": {
      "text/plain": [
       "0.10549074528601542"
      ]
     },
     "execution_count": 64,
     "metadata": {},
     "output_type": "execute_result"
    }
   ],
   "source": [
    "29226/277048\n",
    "# we can see that barely see that it is the matter of data imbalance"
   ]
  },
  {
   "cell_type": "code",
   "execution_count": 65,
   "id": "0503c4ec",
   "metadata": {},
   "outputs": [
    {
     "data": {
      "text/html": [
       "<div>\n",
       "<style scoped>\n",
       "    .dataframe tbody tr th:only-of-type {\n",
       "        vertical-align: middle;\n",
       "    }\n",
       "\n",
       "    .dataframe tbody tr th {\n",
       "        vertical-align: top;\n",
       "    }\n",
       "\n",
       "    .dataframe thead th {\n",
       "        text-align: right;\n",
       "    }\n",
       "</style>\n",
       "<table border=\"1\" class=\"dataframe\">\n",
       "  <thead>\n",
       "    <tr style=\"text-align: right;\">\n",
       "      <th></th>\n",
       "      <th>product_title</th>\n",
       "      <th>reviews</th>\n",
       "      <th>scores</th>\n",
       "      <th>compound</th>\n",
       "      <th>comp_score</th>\n",
       "    </tr>\n",
       "  </thead>\n",
       "  <tbody>\n",
       "    <tr>\n",
       "      <th>0</th>\n",
       "      <td>InnoQ 6.5 Kg Semi Automatic Top Load Washing M...</td>\n",
       "      <td>Best in the market!</td>\n",
       "      <td>{'neg': 0.0, 'neu': 0.4, 'pos': 0.6, 'compound...</td>\n",
       "      <td>0.6696</td>\n",
       "      <td>pos</td>\n",
       "    </tr>\n",
       "    <tr>\n",
       "      <th>1</th>\n",
       "      <td>InnoQ 6.5 Kg Semi Automatic Top Load Washing M...</td>\n",
       "      <td>Great product</td>\n",
       "      <td>{'neg': 0.0, 'neu': 0.196, 'pos': 0.804, 'comp...</td>\n",
       "      <td>0.6249</td>\n",
       "      <td>pos</td>\n",
       "    </tr>\n",
       "    <tr>\n",
       "      <th>2</th>\n",
       "      <td>InnoQ 6.5 Kg Semi Automatic Top Load Washing M...</td>\n",
       "      <td>Super!</td>\n",
       "      <td>{'neg': 0.0, 'neu': 0.0, 'pos': 1.0, 'compound...</td>\n",
       "      <td>0.6360</td>\n",
       "      <td>pos</td>\n",
       "    </tr>\n",
       "    <tr>\n",
       "      <th>3</th>\n",
       "      <td>InnoQ 6.5 Kg Semi Automatic Top Load Washing M...</td>\n",
       "      <td>Worth every penny</td>\n",
       "      <td>{'neg': 0.0, 'neu': 0.513, 'pos': 0.487, 'comp...</td>\n",
       "      <td>0.2263</td>\n",
       "      <td>pos</td>\n",
       "    </tr>\n",
       "    <tr>\n",
       "      <th>4</th>\n",
       "      <td>InnoQ 6.5 Kg Semi Automatic Top Load Washing M...</td>\n",
       "      <td>Just wow!</td>\n",
       "      <td>{'neg': 0.0, 'neu': 0.196, 'pos': 0.804, 'comp...</td>\n",
       "      <td>0.6239</td>\n",
       "      <td>pos</td>\n",
       "    </tr>\n",
       "  </tbody>\n",
       "</table>\n",
       "</div>"
      ],
      "text/plain": [
       "                                       product_title              reviews  \\\n",
       "0  InnoQ 6.5 Kg Semi Automatic Top Load Washing M...  Best in the market!   \n",
       "1  InnoQ 6.5 Kg Semi Automatic Top Load Washing M...        Great product   \n",
       "2  InnoQ 6.5 Kg Semi Automatic Top Load Washing M...               Super!   \n",
       "3  InnoQ 6.5 Kg Semi Automatic Top Load Washing M...    Worth every penny   \n",
       "4  InnoQ 6.5 Kg Semi Automatic Top Load Washing M...            Just wow!   \n",
       "\n",
       "                                              scores  compound comp_score  \n",
       "0  {'neg': 0.0, 'neu': 0.4, 'pos': 0.6, 'compound...    0.6696        pos  \n",
       "1  {'neg': 0.0, 'neu': 0.196, 'pos': 0.804, 'comp...    0.6249        pos  \n",
       "2  {'neg': 0.0, 'neu': 0.0, 'pos': 1.0, 'compound...    0.6360        pos  \n",
       "3  {'neg': 0.0, 'neu': 0.513, 'pos': 0.487, 'comp...    0.2263        pos  \n",
       "4  {'neg': 0.0, 'neu': 0.196, 'pos': 0.804, 'comp...    0.6239        pos  "
      ]
     },
     "execution_count": 65,
     "metadata": {},
     "output_type": "execute_result"
    }
   ],
   "source": [
    "fd.head()"
   ]
  },
  {
   "cell_type": "code",
   "execution_count": 66,
   "id": "2a2323c6",
   "metadata": {},
   "outputs": [
    {
     "data": {
      "text/plain": [
       "product_title    0.000000\n",
       "reviews          0.003879\n",
       "scores           0.003879\n",
       "compound         0.003879\n",
       "comp_score       0.000000\n",
       "dtype: float64"
      ]
     },
     "execution_count": 66,
     "metadata": {},
     "output_type": "execute_result"
    }
   ],
   "source": [
    "fd.isnull().sum()/len(fd)*100"
   ]
  },
  {
   "cell_type": "code",
   "execution_count": 67,
   "id": "ce22dcf4",
   "metadata": {},
   "outputs": [],
   "source": [
    "fd.dropna(subset=['reviews', 'scores', 'compound'], inplace=True)"
   ]
  },
  {
   "cell_type": "code",
   "execution_count": 68,
   "id": "e20e070c",
   "metadata": {},
   "outputs": [
    {
     "data": {
      "text/html": [
       "<div>\n",
       "<style scoped>\n",
       "    .dataframe tbody tr th:only-of-type {\n",
       "        vertical-align: middle;\n",
       "    }\n",
       "\n",
       "    .dataframe tbody tr th {\n",
       "        vertical-align: top;\n",
       "    }\n",
       "\n",
       "    .dataframe thead th {\n",
       "        text-align: right;\n",
       "    }\n",
       "</style>\n",
       "<table border=\"1\" class=\"dataframe\">\n",
       "  <thead>\n",
       "    <tr style=\"text-align: right;\">\n",
       "      <th></th>\n",
       "      <th>compound</th>\n",
       "    </tr>\n",
       "  </thead>\n",
       "  <tbody>\n",
       "    <tr>\n",
       "      <th>count</th>\n",
       "      <td>309378.000000</td>\n",
       "    </tr>\n",
       "    <tr>\n",
       "      <th>mean</th>\n",
       "      <td>0.346385</td>\n",
       "    </tr>\n",
       "    <tr>\n",
       "      <th>std</th>\n",
       "      <td>0.345509</td>\n",
       "    </tr>\n",
       "    <tr>\n",
       "      <th>min</th>\n",
       "      <td>-0.863300</td>\n",
       "    </tr>\n",
       "    <tr>\n",
       "      <th>25%</th>\n",
       "      <td>0.226300</td>\n",
       "    </tr>\n",
       "    <tr>\n",
       "      <th>50%</th>\n",
       "      <td>0.476700</td>\n",
       "    </tr>\n",
       "    <tr>\n",
       "      <th>75%</th>\n",
       "      <td>0.611400</td>\n",
       "    </tr>\n",
       "    <tr>\n",
       "      <th>max</th>\n",
       "      <td>0.949100</td>\n",
       "    </tr>\n",
       "  </tbody>\n",
       "</table>\n",
       "</div>"
      ],
      "text/plain": [
       "            compound\n",
       "count  309378.000000\n",
       "mean        0.346385\n",
       "std         0.345509\n",
       "min        -0.863300\n",
       "25%         0.226300\n",
       "50%         0.476700\n",
       "75%         0.611400\n",
       "max         0.949100"
      ]
     },
     "execution_count": 68,
     "metadata": {},
     "output_type": "execute_result"
    }
   ],
   "source": [
    "fd.describe()"
   ]
  },
  {
   "cell_type": "code",
   "execution_count": 69,
   "id": "d8911dd4",
   "metadata": {},
   "outputs": [
    {
     "name": "stdout",
     "output_type": "stream",
     "text": [
      "<class 'pandas.core.frame.DataFrame'>\n",
      "Index: 309378 entries, 0 to 309389\n",
      "Data columns (total 5 columns):\n",
      " #   Column         Non-Null Count   Dtype  \n",
      "---  ------         --------------   -----  \n",
      " 0   product_title  309378 non-null  object \n",
      " 1   reviews        309378 non-null  object \n",
      " 2   scores         309378 non-null  object \n",
      " 3   compound       309378 non-null  float64\n",
      " 4   comp_score     309378 non-null  object \n",
      "dtypes: float64(1), object(4)\n",
      "memory usage: 14.2+ MB\n"
     ]
    }
   ],
   "source": [
    "fd.info()"
   ]
  },
  {
   "cell_type": "code",
   "execution_count": 70,
   "id": "09a84e5b",
   "metadata": {},
   "outputs": [
    {
     "data": {
      "text/html": [
       "<div>\n",
       "<style scoped>\n",
       "    .dataframe tbody tr th:only-of-type {\n",
       "        vertical-align: middle;\n",
       "    }\n",
       "\n",
       "    .dataframe tbody tr th {\n",
       "        vertical-align: top;\n",
       "    }\n",
       "\n",
       "    .dataframe thead tr th {\n",
       "        text-align: left;\n",
       "    }\n",
       "\n",
       "    .dataframe thead tr:last-of-type th {\n",
       "        text-align: right;\n",
       "    }\n",
       "</style>\n",
       "<table border=\"1\" class=\"dataframe\">\n",
       "  <thead>\n",
       "    <tr>\n",
       "      <th></th>\n",
       "      <th colspan=\"8\" halign=\"left\">compound</th>\n",
       "    </tr>\n",
       "    <tr>\n",
       "      <th></th>\n",
       "      <th>count</th>\n",
       "      <th>mean</th>\n",
       "      <th>std</th>\n",
       "      <th>min</th>\n",
       "      <th>25%</th>\n",
       "      <th>50%</th>\n",
       "      <th>75%</th>\n",
       "      <th>max</th>\n",
       "    </tr>\n",
       "    <tr>\n",
       "      <th>comp_score</th>\n",
       "      <th></th>\n",
       "      <th></th>\n",
       "      <th></th>\n",
       "      <th></th>\n",
       "      <th></th>\n",
       "      <th></th>\n",
       "      <th></th>\n",
       "      <th></th>\n",
       "    </tr>\n",
       "  </thead>\n",
       "  <tbody>\n",
       "    <tr>\n",
       "      <th>neg</th>\n",
       "      <td>29369.0</td>\n",
       "      <td>-0.480869</td>\n",
       "      <td>0.138183</td>\n",
       "      <td>-0.8633</td>\n",
       "      <td>-0.5423</td>\n",
       "      <td>-0.4767</td>\n",
       "      <td>-0.4228</td>\n",
       "      <td>-0.0127</td>\n",
       "    </tr>\n",
       "    <tr>\n",
       "      <th>pos</th>\n",
       "      <td>280009.0</td>\n",
       "      <td>0.433153</td>\n",
       "      <td>0.224916</td>\n",
       "      <td>0.0000</td>\n",
       "      <td>0.2716</td>\n",
       "      <td>0.4767</td>\n",
       "      <td>0.6114</td>\n",
       "      <td>0.9491</td>\n",
       "    </tr>\n",
       "  </tbody>\n",
       "</table>\n",
       "</div>"
      ],
      "text/plain": [
       "            compound                                                      \\\n",
       "               count      mean       std     min     25%     50%     75%   \n",
       "comp_score                                                                 \n",
       "neg          29369.0 -0.480869  0.138183 -0.8633 -0.5423 -0.4767 -0.4228   \n",
       "pos         280009.0  0.433153  0.224916  0.0000  0.2716  0.4767  0.6114   \n",
       "\n",
       "                    \n",
       "               max  \n",
       "comp_score          \n",
       "neg        -0.0127  \n",
       "pos         0.9491  "
      ]
     },
     "execution_count": 70,
     "metadata": {},
     "output_type": "execute_result"
    }
   ],
   "source": [
    "fd.groupby('comp_score').describe()"
   ]
  },
  {
   "cell_type": "code",
   "execution_count": 71,
   "id": "d5343d57",
   "metadata": {},
   "outputs": [
    {
     "data": {
      "text/plain": [
       "(29369, 5)"
      ]
     },
     "execution_count": 71,
     "metadata": {},
     "output_type": "execute_result"
    }
   ],
   "source": [
    "# Now we are managing our data to make it balance\n",
    "fd_neg = fd[fd['comp_score']=='neg']\n",
    "fd_neg.shape"
   ]
  },
  {
   "cell_type": "code",
   "execution_count": 72,
   "id": "7ad08ae1",
   "metadata": {},
   "outputs": [
    {
     "data": {
      "text/plain": [
       "(280009, 5)"
      ]
     },
     "execution_count": 72,
     "metadata": {},
     "output_type": "execute_result"
    }
   ],
   "source": [
    "fd_pos = fd[fd['comp_score']=='pos']\n",
    "fd_pos.shape"
   ]
  },
  {
   "cell_type": "code",
   "execution_count": 73,
   "id": "c65120fa",
   "metadata": {},
   "outputs": [
    {
     "data": {
      "text/plain": [
       "(29369, 5)"
      ]
     },
     "execution_count": 73,
     "metadata": {},
     "output_type": "execute_result"
    }
   ],
   "source": [
    "fd_pos_downsampled = fd_pos.sample(fd_neg.shape[0])\n",
    "fd_pos_downsampled.shape"
   ]
  },
  {
   "cell_type": "code",
   "execution_count": 74,
   "id": "f9472c5f",
   "metadata": {},
   "outputs": [
    {
     "data": {
      "text/plain": [
       "(58738, 5)"
      ]
     },
     "execution_count": 74,
     "metadata": {},
     "output_type": "execute_result"
    }
   ],
   "source": [
    "fd_balanced = ps.concat([fd_pos_downsampled, fd_neg])\n",
    "fd_balanced.shape"
   ]
  },
  {
   "cell_type": "code",
   "execution_count": 75,
   "id": "3394ec70",
   "metadata": {},
   "outputs": [
    {
     "data": {
      "text/plain": [
       "comp_score\n",
       "pos    29369\n",
       "neg    29369\n",
       "Name: count, dtype: int64"
      ]
     },
     "execution_count": 75,
     "metadata": {},
     "output_type": "execute_result"
    }
   ],
   "source": [
    "# Now we have balanced data through which we are not going to have any overfitting problem\n",
    "fd_balanced['comp_score'].value_counts()"
   ]
  },
  {
   "cell_type": "code",
   "execution_count": 76,
   "id": "cf3613cd",
   "metadata": {},
   "outputs": [
    {
     "data": {
      "text/html": [
       "<div>\n",
       "<style scoped>\n",
       "    .dataframe tbody tr th:only-of-type {\n",
       "        vertical-align: middle;\n",
       "    }\n",
       "\n",
       "    .dataframe tbody tr th {\n",
       "        vertical-align: top;\n",
       "    }\n",
       "\n",
       "    .dataframe thead th {\n",
       "        text-align: right;\n",
       "    }\n",
       "</style>\n",
       "<table border=\"1\" class=\"dataframe\">\n",
       "  <thead>\n",
       "    <tr style=\"text-align: right;\">\n",
       "      <th></th>\n",
       "      <th>product_title</th>\n",
       "      <th>reviews</th>\n",
       "      <th>scores</th>\n",
       "      <th>compound</th>\n",
       "      <th>comp_score</th>\n",
       "      <th>neg</th>\n",
       "    </tr>\n",
       "  </thead>\n",
       "  <tbody>\n",
       "    <tr>\n",
       "      <th>13155</th>\n",
       "      <td>Whirlpool 11 kg Semi Automatic Top Load Washin...</td>\n",
       "      <td>Wonderful</td>\n",
       "      <td>{'neg': 0.0, 'neu': 0.0, 'pos': 1.0, 'compound...</td>\n",
       "      <td>0.5719</td>\n",
       "      <td>pos</td>\n",
       "      <td>0</td>\n",
       "    </tr>\n",
       "    <tr>\n",
       "      <th>15166</th>\n",
       "      <td>MarQ by Flipkart 7.5 kg Washer only White, Gre...</td>\n",
       "      <td>Horrible</td>\n",
       "      <td>{'neg': 1.0, 'neu': 0.0, 'pos': 0.0, 'compound...</td>\n",
       "      <td>-0.5423</td>\n",
       "      <td>neg</td>\n",
       "      <td>1</td>\n",
       "    </tr>\n",
       "    <tr>\n",
       "      <th>23841</th>\n",
       "      <td>SAMSUNG 7.5 kg Wobble Technology with Diamond ...</td>\n",
       "      <td>Pretty good</td>\n",
       "      <td>{'neg': 0.0, 'neu': 0.0, 'pos': 1.0, 'compound...</td>\n",
       "      <td>0.7269</td>\n",
       "      <td>pos</td>\n",
       "      <td>0</td>\n",
       "    </tr>\n",
       "    <tr>\n",
       "      <th>248942</th>\n",
       "      <td>realme Buds Classic RMA2001 Wired Earphones wi...</td>\n",
       "      <td>Useless product</td>\n",
       "      <td>{'neg': 0.737, 'neu': 0.263, 'pos': 0.0, 'comp...</td>\n",
       "      <td>-0.4215</td>\n",
       "      <td>neg</td>\n",
       "      <td>1</td>\n",
       "    </tr>\n",
       "    <tr>\n",
       "      <th>228389</th>\n",
       "      <td>IFB 8 kg 5 Star AI Powered, 4 years Comprehens...</td>\n",
       "      <td>Terrible product</td>\n",
       "      <td>{'neg': 0.756, 'neu': 0.244, 'pos': 0.0, 'comp...</td>\n",
       "      <td>-0.4767</td>\n",
       "      <td>neg</td>\n",
       "      <td>1</td>\n",
       "    </tr>\n",
       "    <tr>\n",
       "      <th>63999</th>\n",
       "      <td>Mi 10i (Atlantic Blue, 128 GB) Reviews</td>\n",
       "      <td>Utterly Disappointed</td>\n",
       "      <td>{'neg': 0.772, 'neu': 0.228, 'pos': 0.0, 'comp...</td>\n",
       "      <td>-0.5256</td>\n",
       "      <td>neg</td>\n",
       "      <td>1</td>\n",
       "    </tr>\n",
       "    <tr>\n",
       "      <th>93621</th>\n",
       "      <td>SAMSUNG Galaxy F22 (Denim Black, 128 GB) Reviews</td>\n",
       "      <td>Terrific</td>\n",
       "      <td>{'neg': 0.0, 'neu': 0.0, 'pos': 1.0, 'compound...</td>\n",
       "      <td>0.4767</td>\n",
       "      <td>pos</td>\n",
       "      <td>0</td>\n",
       "    </tr>\n",
       "    <tr>\n",
       "      <th>293428</th>\n",
       "      <td>U&amp;i Key Series 20hrs Wireless Earphone with Mi...</td>\n",
       "      <td>Brilliant</td>\n",
       "      <td>{'neg': 0.0, 'neu': 0.0, 'pos': 1.0, 'compound...</td>\n",
       "      <td>0.5859</td>\n",
       "      <td>pos</td>\n",
       "      <td>0</td>\n",
       "    </tr>\n",
       "    <tr>\n",
       "      <th>2584</th>\n",
       "      <td>no name</td>\n",
       "      <td>Great product</td>\n",
       "      <td>{'neg': 0.0, 'neu': 0.196, 'pos': 0.804, 'comp...</td>\n",
       "      <td>0.6249</td>\n",
       "      <td>pos</td>\n",
       "      <td>0</td>\n",
       "    </tr>\n",
       "    <tr>\n",
       "      <th>14036</th>\n",
       "      <td>Midea 8 kg Spin Dry Dark Full Metal Body, Soft...</td>\n",
       "      <td>Useless product</td>\n",
       "      <td>{'neg': 0.737, 'neu': 0.263, 'pos': 0.0, 'comp...</td>\n",
       "      <td>-0.4215</td>\n",
       "      <td>neg</td>\n",
       "      <td>1</td>\n",
       "    </tr>\n",
       "  </tbody>\n",
       "</table>\n",
       "</div>"
      ],
      "text/plain": [
       "                                            product_title  \\\n",
       "13155   Whirlpool 11 kg Semi Automatic Top Load Washin...   \n",
       "15166   MarQ by Flipkart 7.5 kg Washer only White, Gre...   \n",
       "23841   SAMSUNG 7.5 kg Wobble Technology with Diamond ...   \n",
       "248942  realme Buds Classic RMA2001 Wired Earphones wi...   \n",
       "228389  IFB 8 kg 5 Star AI Powered, 4 years Comprehens...   \n",
       "63999              Mi 10i (Atlantic Blue, 128 GB) Reviews   \n",
       "93621    SAMSUNG Galaxy F22 (Denim Black, 128 GB) Reviews   \n",
       "293428  U&i Key Series 20hrs Wireless Earphone with Mi...   \n",
       "2584                                              no name   \n",
       "14036   Midea 8 kg Spin Dry Dark Full Metal Body, Soft...   \n",
       "\n",
       "                     reviews  \\\n",
       "13155              Wonderful   \n",
       "15166               Horrible   \n",
       "23841            Pretty good   \n",
       "248942       Useless product   \n",
       "228389      Terrible product   \n",
       "63999   Utterly Disappointed   \n",
       "93621               Terrific   \n",
       "293428             Brilliant   \n",
       "2584           Great product   \n",
       "14036        Useless product   \n",
       "\n",
       "                                                   scores  compound  \\\n",
       "13155   {'neg': 0.0, 'neu': 0.0, 'pos': 1.0, 'compound...    0.5719   \n",
       "15166   {'neg': 1.0, 'neu': 0.0, 'pos': 0.0, 'compound...   -0.5423   \n",
       "23841   {'neg': 0.0, 'neu': 0.0, 'pos': 1.0, 'compound...    0.7269   \n",
       "248942  {'neg': 0.737, 'neu': 0.263, 'pos': 0.0, 'comp...   -0.4215   \n",
       "228389  {'neg': 0.756, 'neu': 0.244, 'pos': 0.0, 'comp...   -0.4767   \n",
       "63999   {'neg': 0.772, 'neu': 0.228, 'pos': 0.0, 'comp...   -0.5256   \n",
       "93621   {'neg': 0.0, 'neu': 0.0, 'pos': 1.0, 'compound...    0.4767   \n",
       "293428  {'neg': 0.0, 'neu': 0.0, 'pos': 1.0, 'compound...    0.5859   \n",
       "2584    {'neg': 0.0, 'neu': 0.196, 'pos': 0.804, 'comp...    0.6249   \n",
       "14036   {'neg': 0.737, 'neu': 0.263, 'pos': 0.0, 'comp...   -0.4215   \n",
       "\n",
       "       comp_score  neg  \n",
       "13155         pos    0  \n",
       "15166         neg    1  \n",
       "23841         pos    0  \n",
       "248942        neg    1  \n",
       "228389        neg    1  \n",
       "63999         neg    1  \n",
       "93621         pos    0  \n",
       "293428        pos    0  \n",
       "2584          pos    0  \n",
       "14036         neg    1  "
      ]
     },
     "execution_count": 76,
     "metadata": {},
     "output_type": "execute_result"
    }
   ],
   "source": [
    "fd_balanced['neg']=fd_balanced['comp_score'].apply(lambda x: 1 if x=='neg' else 0)\n",
    "fd_balanced.sample(10)"
   ]
  },
  {
   "cell_type": "code",
   "execution_count": 77,
   "id": "ccd302e1",
   "metadata": {},
   "outputs": [
    {
     "data": {
      "text/plain": [
       "(58738, 6)"
      ]
     },
     "execution_count": 77,
     "metadata": {},
     "output_type": "execute_result"
    }
   ],
   "source": [
    "fd_balanced.shape"
   ]
  },
  {
   "cell_type": "code",
   "execution_count": 78,
   "id": "4ff7e11b",
   "metadata": {},
   "outputs": [],
   "source": [
    "ps.set_option('display.max_colwidth', None)"
   ]
  },
  {
   "cell_type": "code",
   "execution_count": 79,
   "id": "52ef6920",
   "metadata": {},
   "outputs": [
    {
     "name": "stdout",
     "output_type": "stream",
     "text": [
      "309333    boAt Rockerz 235 Pro with upto 20 Hours Playback & ASAP Charge Bluetooth Headset Reviews\n",
      "309346    boAt Rockerz 235 Pro with upto 20 Hours Playback & ASAP Charge Bluetooth Headset Reviews\n",
      "309372    boAt Rockerz 235 Pro with upto 20 Hours Playback & ASAP Charge Bluetooth Headset Reviews\n",
      "309375    boAt Rockerz 235 Pro with upto 20 Hours Playback & ASAP Charge Bluetooth Headset Reviews\n",
      "309388    boAt Rockerz 235 Pro with upto 20 Hours Playback & ASAP Charge Bluetooth Headset Reviews\n",
      "Name: product_title, dtype: object\n"
     ]
    }
   ],
   "source": [
    "# Print the DataFrame with full product names\n",
    "print(fd_balanced['product_title'].tail())"
   ]
  },
  {
   "cell_type": "code",
   "execution_count": 80,
   "id": "552d128c",
   "metadata": {},
   "outputs": [
    {
     "data": {
      "text/plain": [
       "238513                                                                                                                               FABER HOOD PLUTO PB BF BK 60 Wall Mounted Chimney Reviews\n",
       "172017                                                               LG 1.5 Ton 3 Star Split Dual Inverter Convertible 5-in-1 Cooling HD Filter with Anti-Virus Protection AC  - White Reviews\n",
       "111730                                                                                                                                 SAMSUNG Galaxy A30s (Prism Crush Violet, 64 GB) Reviews\n",
       "33373                                                                                                                                                    Mi 11X (Cosmic Black, 128 GB) Reviews\n",
       "111659                                                                                                                                            SAMSUNG Galaxy A22 5G (Gray, 128 GB) Reviews\n",
       "138835                                                                                                                            Vu 108 cm (43 inch) Ultra HD (4K) LED Smart WebOS TV Reviews\n",
       "5071                                                                                            Whirlpool 7.5 kg 5 Star, Hard Water wash Fully Automatic Top Load Washing Machine Grey Reviews\n",
       "289702                                                                           Aroma NB119C Carter 48 Hours Playing Time Fast Charging Bluetooth Neckband Earphone Bluetooth Headset Reviews\n",
       "162239                                   LG AI Convertible 6-in-1 Cooling 2023 Model 1 Ton 5 Star Split AI Dual Inverter 4 Way Swing, HD Filter with Anti-Virus Protection AC  - White Reviews\n",
       "9546                                                                                                                   Midea 7 kg 5 Star Fully Automatic Top Load Washing Machine Grey Reviews\n",
       "237496                                                                                                                                      Glen GL 6052 TC 90 BL Wall Mounted Chimney Reviews\n",
       "44187                                                                                                                                   REDMI Note 12 Pro 5G (Stardust Purple, 256 GB) Reviews\n",
       "298996                                                                                                boAt Rockerz 235 Pro with upto 20 Hours Playback & ASAP Charge Bluetooth Headset Reviews\n",
       "32955                                                                                                                                              Xiaomi 11i 5G (Purple Mist, 128 GB) Reviews\n",
       "148252                                                                                                                  Vu Premium 164 cm (65 inch) Ultra HD (4K) LED Smart Android TV Reviews\n",
       "91974                                                                                                                                                           SAMSUNG GT-E1215ZKAINS Reviews\n",
       "39756                                                                                                                                                       Redmi Note 5 (Gold, 32 GB) Reviews\n",
       "145511                                                       MOTOROLA Envision 80 cm (32 inch) HD Ready LED Smart Android TV with Android 11, Bezel-Less Design and Dolby Audio (2023) Reviews\n",
       "290333                                                                                    Noise Buds Venus with ANC (30dB), 40 Hours Playtime, and ENC with Quad Mic Bluetooth Headset Reviews\n",
       "236216                                                                                                                              Hindware Alexio 60 Auto Clean Wall Mounted Chimney Reviews\n",
       "97742                                                                                                                                                       SAMSUNG Metro 313 Dual Sim Reviews\n",
       "83083                                                                                                                                            MAK Quick Charge 2.4 A Mobile Charger Reviews\n",
       "258433                                                                     boAt Immortal 171 with Beast Mode(Low Latency), 40 HRS Playback & Blazing RGB LEDs Bluetooth Gaming Headset Reviews\n",
       "265998                                                                                           boAt Rockerz 255 Arc with ENx Technology and upto 30 Hours Playback Bluetooth Headset Reviews\n",
       "172563              IFB 6 kg Steam Wash, Hard Water Wash, Active Color Protection 4 years Comprehensive Warranty Fully Automatic Front Load Washing Machine with In-built Heater White Reviews\n",
       "35075                                                                                                                                                Redmi Note 7S (Onyx Black, 32 GB) Reviews\n",
       "126389                                                                                             Vu GloLED 126 cm (50 inch) Ultra HD (4K) LED Smart Google TV with DJ Subwoofer 104W Reviews\n",
       "257494                                                                           Aroma NB119C Carter 48 Hours Playing Time Fast Charging Bluetooth Neckband Earphone Bluetooth Headset Reviews\n",
       "208567                                                                                                                                              IFB 23 L Convection Microwave Oven Reviews\n",
       "45819                                                                                                                                          REDMI 11 Prime 5G (Meadow Green, 64 GB) Reviews\n",
       "34460                                                                                                                                                           Redmi 6 (Black, 64 GB) Reviews\n",
       "138305                                                                                                                            Vu 108 cm (43 inch) Ultra HD (4K) LED Smart WebOS TV Reviews\n",
       "306253                                                                   Boult Audio Y1 with Zen ENC Mic, 40Hrs Playtime, Fast Charging, Pro+ Calling, IPX5, BTv 5.3 Bluetooth Headset Reviews\n",
       "91276                                                                                                                                   SAMSUNG Galaxy A34 5G (Awesome Violet, 128 GB) Reviews\n",
       "173165                                          IFB FastCool Convertible 8-in-1 Cooling, 2023 Model 1.5 Ton 5 Star Split Inverter 7 Stage Air Treatment AC with Wi-fi Connect  - White Reviews\n",
       "47294                                                                                                                                                     itel MagicX Pro (4G Hotspot) Reviews\n",
       "152303                                                                                                                  Vu Premium 164 cm (65 inch) Ultra HD (4K) LED Smart Android TV Reviews\n",
       "266601                                                                                 OnePlus Nord Buds 2 True Wireless Earbuds with 25dB Active Noise Cancellation Bluetooth Headset Reviews\n",
       "155919                                                                                  Avita SATUS S111 Celeron Dual Core - (4 GB/128 GB SSD/Windows 11 Home) NU14A1INC43PN-CS Laptop Reviews\n",
       "68806                                                                                                                                              REDMI 9i Sport (Coral Green, 64 GB) Reviews\n",
       "201294                           IFB Neptune VX Plus Free Standing 15 Place Settings with Germ-Free Hygienic Wash, Made for Indian Kitchens, Steam Drying, Energy Efficient Dishwasher Reviews\n",
       "261781                                                                        Aroma NB128 Adventure 50 Hours Playtime Fast Charging, Dual Pairing Bluetooth Neckband Bluetooth Headset Reviews\n",
       "197184    IFB 9 kg 2X Power Dual Steam, Hard Water Wash, Active Color Protection 4 years Comprehensive Warranty Fully Automatic Front Load Washing Machine with In-built Heater Silver Reviews\n",
       "131102                                                                                                                         Vu 139 cm (55 inch) QLED Ultra HD (4K) Smart Android TV Reviews\n",
       "232088    IFB 9 kg 2X Power Dual Steam, Hard Water Wash, Active Color Protection 4 years Comprehensive Warranty Fully Automatic Front Load Washing Machine with In-built Heater Silver Reviews\n",
       "209911              IFB 6 kg Steam Wash, Hard Water Wash, Active Color Protection 4 years Comprehensive Warranty Fully Automatic Front Load Washing Machine with In-built Heater White Reviews\n",
       "246699                                                                                                          boAt Airdopes 131 with upto 60 Hours and ASAP Charge Bluetooth Headset Reviews\n",
       "170495                                                         LG Super Convertible 5-in-1 Cooling 1.5 Ton 3 Star Split Dual Inverter HD Filter with Anti-Virus Protection AC  - White Reviews\n",
       "256600                                                                                             boAt Immortal 131 with Beast Mode, 40 Hours Playback and ENx Tech Bluetooth Headset Reviews\n",
       "238105                                                                                                                FABER Hood Sydney FL SC AC BK 60 Auto Clean Wall Mounted Chimney Reviews\n",
       "Name: product_title, dtype: object"
      ]
     },
     "execution_count": 80,
     "metadata": {},
     "output_type": "execute_result"
    }
   ],
   "source": [
    "fd_balanced.product_title.head(50)"
   ]
  },
  {
   "cell_type": "code",
   "execution_count": 98,
   "id": "f3275b90",
   "metadata": {},
   "outputs": [],
   "source": [
    "# Recommendation System\n",
    "\n",
    "from annoy import AnnoyIndex\n",
    "\n",
    "# Create TF-IDF matrix\n",
    "tfidf = TfidfVectorizer(stop_words='english')\n",
    "tfidf_matrix = tfidf.fit_transform(fd_balanced['reviews'])\n",
    "\n",
    "# Build AnnoyIndex\n",
    "embedding_size = tfidf_matrix.shape[1]\n",
    "annoy_index = AnnoyIndex(embedding_size, metric='angular')\n",
    "for i in range(tfidf_matrix.shape[0]):\n",
    "    vector = tfidf_matrix[i].toarray()[0]\n",
    "    annoy_index.add_item(i, vector)\n",
    "annoy_index.build(50)  # 50 trees\n",
    "\n",
    "def get_similar_products(product_title, n):\n",
    "    # Get the index of the product\n",
    "    indices = ps.Series(fd_balanced.index, index=fd_balanced['product_title']).drop_duplicates()\n",
    "    idx = indices[product_title].iloc[0]\n",
    "\n",
    "    # Query AnnoyIndex for similar products\n",
    "    product_indices = annoy_index.get_nns_by_item(idx, n + 1, search_k=-1, include_distances=False)\n",
    "\n",
    "    # Exclude the input product itself\n",
    "    product_indices = product_indices[1:]\n",
    "\n",
    "    # Return the top n similar products\n",
    "    return fd_balanced['product_title'].iloc[product_indices]"
   ]
  },
  {
   "cell_type": "code",
   "execution_count": 99,
   "id": "0aeb47e9",
   "metadata": {},
   "outputs": [
    {
     "name": "stdout",
     "output_type": "stream",
     "text": [
      "Enter Product name: Redmi Note 5 (Gold, 32 GB) Reviews\n",
      "Top 5 recommended products for 'Redmi Note 5 (Gold, 32 GB) Reviews':\n",
      "1338                                                  SAMSUNG 7 kg Semi Automatic Top Load Washing Machine Grey, Purple Reviews\n",
      "1970    IFB 7 kg 5 Star Aqua Conserve Hard Water Wash, Smart Sense Fully Automatic Top Load Washing Machine Grey, White Reviews\n",
      "2220                  LG 6.5 kg with Smart Diagnosis and Smart Inverter Fully Automatic Top Load Washing Machine Silver Reviews\n",
      "2229                  LG 6.5 kg with Smart Diagnosis and Smart Inverter Fully Automatic Top Load Washing Machine Silver Reviews\n",
      "2351                                LG 7 kg Steam Fully Automatic Front Load Washing Machine with In-built Heater White Reviews\n",
      "Name: product_title, dtype: object\n"
     ]
    }
   ],
   "source": [
    "product = input(\"Enter Product name: \").strip()\n",
    "num_recommendations = 5\n",
    "recommendations = get_similar_products(product, num_recommendations)\n",
    "print(f\"Top {num_recommendations} recommended products for '{product}':\")\n",
    "print(recommendations)"
   ]
  },
  {
   "cell_type": "code",
   "execution_count": 100,
   "id": "6064d08c",
   "metadata": {},
   "outputs": [],
   "source": [
    "from sklearn.model_selection import train_test_split\n",
    "\n",
    "X_train, X_test, y_train, y_test = train_test_split(fd_balanced['reviews'],fd_balanced['neg'], stratify=fd_balanced['neg'])"
   ]
  },
  {
   "cell_type": "code",
   "execution_count": 101,
   "id": "98016f45",
   "metadata": {},
   "outputs": [
    {
     "data": {
      "text/plain": [
       "181196            Great product\n",
       "237907          Waste of money!\n",
       "204201                   Super!\n",
       "232632    Mind-blowing purchase\n",
       "Name: reviews, dtype: object"
      ]
     },
     "execution_count": 101,
     "metadata": {},
     "output_type": "execute_result"
    }
   ],
   "source": [
    "X_train.head(4)"
   ]
  },
  {
   "cell_type": "code",
   "execution_count": 102,
   "id": "2be3ece3",
   "metadata": {
    "scrolled": true
   },
   "outputs": [],
   "source": [
    "bert_preprocess = hub.KerasLayer(\"https://tfhub.dev/tensorflow/bert_en_uncased_preprocess/3\")\n",
    "bert_encoder = hub.KerasLayer(\"https://tfhub.dev/tensorflow/bert_en_uncased_L-12_H-768_A-12/4\")"
   ]
  },
  {
   "cell_type": "code",
   "execution_count": 103,
   "id": "0b6ffb59",
   "metadata": {},
   "outputs": [
    {
     "data": {
      "text/plain": [
       "<tf.Tensor: shape=(4, 768), dtype=float32, numpy=\n",
       "array([[-0.8435169 , -0.5132726 , -0.88845724, ..., -0.74748874,\n",
       "        -0.7531473 ,  0.9196449 ],\n",
       "       [-0.9241627 , -0.29388258, -0.9712885 , ..., -0.9276766 ,\n",
       "        -0.6102464 ,  0.90782315],\n",
       "       [-0.8739092 , -0.43364036, -0.85776633, ..., -0.7138211 ,\n",
       "        -0.7192733 ,  0.9243591 ],\n",
       "       [-0.8730835 , -0.2893696 , -0.35944772, ...,  0.08192193,\n",
       "        -0.69178367,  0.9021187 ]], dtype=float32)>"
      ]
     },
     "execution_count": 103,
     "metadata": {},
     "output_type": "execute_result"
    }
   ],
   "source": [
    "def get_sentence_embeding(sentences):\n",
    "    preprocessed_text = bert_preprocess(sentences)\n",
    "    return bert_encoder(preprocessed_text)['pooled_output']\n",
    "\n",
    "get_sentence_embeding([\n",
    "    \"500$ discount. hurry up\", \n",
    "    \"Odin, are you there?\",\n",
    "    \"I will meet you in Valhalla, will drink ale\",\n",
    "    \"Why always me, God\"]\n",
    ")"
   ]
  },
  {
   "cell_type": "code",
   "execution_count": 109,
   "id": "13e24bd9",
   "metadata": {},
   "outputs": [],
   "source": [
    "e = get_sentence_embeding([\n",
    "    \"banana\", \n",
    "    \"grapes\",\n",
    "    \"mango\",\n",
    "    \"gautam adani\",\n",
    "    \"elon musk\",\n",
    "    \"Bill gates\",\n",
    "    \"Narendra modi\",\n",
    "    \"yogi adityanath\",\n",
    "    \"Jai Shree Ram\",\n",
    "    \"Harshit Verma\"\n",
    "]\n",
    ")"
   ]
  },
  {
   "cell_type": "code",
   "execution_count": 110,
   "id": "64b52c7d",
   "metadata": {},
   "outputs": [
    {
     "data": {
      "text/plain": [
       "array([[0.9911088]], dtype=float32)"
      ]
     },
     "execution_count": 110,
     "metadata": {},
     "output_type": "execute_result"
    }
   ],
   "source": [
    "from sklearn.metrics.pairwise import cosine_similarity\n",
    "cosine_similarity([e[0]],[e[1]])"
   ]
  },
  {
   "cell_type": "code",
   "execution_count": 111,
   "id": "0995f829",
   "metadata": {},
   "outputs": [
    {
     "data": {
      "text/plain": [
       "array([[0.92163813]], dtype=float32)"
      ]
     },
     "execution_count": 111,
     "metadata": {},
     "output_type": "execute_result"
    }
   ],
   "source": [
    "cosine_similarity([e[0]],[e[3]])"
   ]
  },
  {
   "cell_type": "code",
   "execution_count": 112,
   "id": "f6ddd7af",
   "metadata": {},
   "outputs": [],
   "source": [
    "# Bert layers\n",
    "text_input = tf.keras.layers.Input(shape=(), dtype=tf.string, name='text')\n",
    "preprocessed_text = bert_preprocess(text_input)\n",
    "outputs = bert_encoder(preprocessed_text)\n",
    "\n",
    "# Neural network layers\n",
    "l = tf.keras.layers.Dropout(0.1, name=\"dropout\")(outputs['pooled_output'])\n",
    "l = tf.keras.layers.Dense(1, activation='sigmoid', name=\"output\")(l)\n",
    "\n",
    "# Use inputs and outputs to construct a final model\n",
    "model = tf.keras.Model(inputs=[text_input], outputs = [l])"
   ]
  },
  {
   "cell_type": "code",
   "execution_count": 113,
   "id": "0d7b74f9",
   "metadata": {},
   "outputs": [
    {
     "name": "stdout",
     "output_type": "stream",
     "text": [
      "Model: \"model_1\"\n",
      "__________________________________________________________________________________________________\n",
      " Layer (type)                   Output Shape         Param #     Connected to                     \n",
      "==================================================================================================\n",
      " text (InputLayer)              [(None,)]            0           []                               \n",
      "                                                                                                  \n",
      " keras_layer (KerasLayer)       {'input_mask': (Non  0           ['text[0][0]']                   \n",
      "                                e, 128),                                                          \n",
      "                                 'input_type_ids':                                                \n",
      "                                (None, 128),                                                      \n",
      "                                 'input_word_ids':                                                \n",
      "                                (None, 128)}                                                      \n",
      "                                                                                                  \n",
      " keras_layer_1 (KerasLayer)     {'default': (None,   109482241   ['keras_layer[1][0]',            \n",
      "                                768),                             'keras_layer[1][1]',            \n",
      "                                 'encoder_outputs':               'keras_layer[1][2]']            \n",
      "                                 [(None, 128, 768),                                               \n",
      "                                 (None, 128, 768),                                                \n",
      "                                 (None, 128, 768),                                                \n",
      "                                 (None, 128, 768),                                                \n",
      "                                 (None, 128, 768),                                                \n",
      "                                 (None, 128, 768),                                                \n",
      "                                 (None, 128, 768),                                                \n",
      "                                 (None, 128, 768),                                                \n",
      "                                 (None, 128, 768),                                                \n",
      "                                 (None, 128, 768),                                                \n",
      "                                 (None, 128, 768),                                                \n",
      "                                 (None, 128, 768)],                                               \n",
      "                                 'pooled_output': (                                               \n",
      "                                None, 768),                                                       \n",
      "                                 'sequence_output':                                               \n",
      "                                 (None, 128, 768)}                                                \n",
      "                                                                                                  \n",
      " dropout (Dropout)              (None, 768)          0           ['keras_layer_1[1][13]']         \n",
      "                                                                                                  \n",
      " output (Dense)                 (None, 1)            769         ['dropout[0][0]']                \n",
      "                                                                                                  \n",
      "==================================================================================================\n",
      "Total params: 109,483,010\n",
      "Trainable params: 769\n",
      "Non-trainable params: 109,482,241\n",
      "__________________________________________________________________________________________________\n"
     ]
    }
   ],
   "source": [
    "model.summary()"
   ]
  },
  {
   "cell_type": "code",
   "execution_count": 114,
   "id": "447f577c",
   "metadata": {},
   "outputs": [
    {
     "data": {
      "text/plain": [
       "44053"
      ]
     },
     "execution_count": 114,
     "metadata": {},
     "output_type": "execute_result"
    }
   ],
   "source": [
    "len(X_train)"
   ]
  },
  {
   "cell_type": "code",
   "execution_count": 115,
   "id": "0f1d7e7c",
   "metadata": {},
   "outputs": [
    {
     "data": {
      "text/plain": [
       "44053"
      ]
     },
     "execution_count": 115,
     "metadata": {},
     "output_type": "execute_result"
    }
   ],
   "source": [
    "len(y_train)"
   ]
  },
  {
   "cell_type": "code",
   "execution_count": 116,
   "id": "d7a5a925",
   "metadata": {},
   "outputs": [],
   "source": [
    "METRICS = [\n",
    "      tf.keras.metrics.BinaryAccuracy(name='accuracy'),\n",
    "      tf.keras.metrics.Precision(name='precision'),\n",
    "      tf.keras.metrics.Recall(name='recall')\n",
    "]\n",
    "\n",
    "model.compile(optimizer='adam',\n",
    "              loss='binary_crossentropy',\n",
    "              metrics=METRICS)"
   ]
  },
  {
   "cell_type": "code",
   "execution_count": 117,
   "id": "220b00e3",
   "metadata": {},
   "outputs": [],
   "source": [
    "X_train = X_train.reset_index(drop=True)\n",
    "y_train = y_train.reset_index(drop=True)"
   ]
  },
  {
   "cell_type": "code",
   "execution_count": 118,
   "id": "6cfab2c2",
   "metadata": {},
   "outputs": [
    {
     "name": "stdout",
     "output_type": "stream",
     "text": [
      "Epoch 1/10\n",
      "1377/1377 [==============================] - 7446s 5s/step - loss: 0.3693 - accuracy: 0.9064 - precision: 0.8967 - recall: 0.9186\n",
      "Epoch 2/10\n",
      "1377/1377 [==============================] - 7615s 6s/step - loss: 0.1851 - accuracy: 0.9696 - precision: 0.9581 - recall: 0.9822\n",
      "Epoch 3/10\n",
      "1377/1377 [==============================] - 7186s 5s/step - loss: 0.1330 - accuracy: 0.9739 - precision: 0.9636 - recall: 0.9851\n",
      "Epoch 4/10\n",
      "1377/1377 [==============================] - 7230s 5s/step - loss: 0.1074 - accuracy: 0.9773 - precision: 0.9684 - recall: 0.9868\n",
      "Epoch 5/10\n",
      "1377/1377 [==============================] - 7225s 5s/step - loss: 0.0897 - accuracy: 0.9802 - precision: 0.9731 - recall: 0.9877\n",
      "Epoch 6/10\n",
      "1377/1377 [==============================] - 7226s 5s/step - loss: 0.0786 - accuracy: 0.9824 - precision: 0.9763 - recall: 0.9888\n",
      "Epoch 7/10\n",
      "1377/1377 [==============================] - 7169s 5s/step - loss: 0.0703 - accuracy: 0.9847 - precision: 0.9796 - recall: 0.9900\n",
      "Epoch 8/10\n",
      "1377/1377 [==============================] - 7181s 5s/step - loss: 0.0664 - accuracy: 0.9852 - precision: 0.9814 - recall: 0.9891\n",
      "Epoch 9/10\n",
      "1377/1377 [==============================] - 7178s 5s/step - loss: 0.0614 - accuracy: 0.9866 - precision: 0.9836 - recall: 0.9897\n",
      "Epoch 10/10\n",
      "1377/1377 [==============================] - 7228s 5s/step - loss: 0.0580 - accuracy: 0.9875 - precision: 0.9845 - recall: 0.9906\n"
     ]
    },
    {
     "data": {
      "text/plain": [
       "<keras.callbacks.History at 0x1af670d64f0>"
      ]
     },
     "execution_count": 118,
     "metadata": {},
     "output_type": "execute_result"
    }
   ],
   "source": [
    "model.fit(X_train, y_train, epochs=10)"
   ]
  },
  {
   "cell_type": "code",
   "execution_count": 103,
   "id": "156e9313",
   "metadata": {},
   "outputs": [
    {
     "name": "stdout",
     "output_type": "stream",
     "text": [
      "260/260 [==============================] - 1028s 4s/step - loss: 0.0680 - accuracy: 0.9855 - precision: 0.9841 - recall: 0.9870\n"
     ]
    },
    {
     "data": {
      "text/plain": [
       "[0.06800997257232666,\n",
       " 0.9855404496192932,\n",
       " 0.9841384291648865,\n",
       " 0.9869847893714905]"
      ]
     },
     "execution_count": 103,
     "metadata": {},
     "output_type": "execute_result"
    }
   ],
   "source": [
    "X_test = X_test.reset_index(drop=True)\n",
    "y_test = y_test.reset_index(drop=True)\n",
    "\n",
    "model.evaluate(X_test, y_test)"
   ]
  },
  {
   "cell_type": "code",
   "execution_count": 119,
   "id": "f4374174",
   "metadata": {},
   "outputs": [
    {
     "name": "stdout",
     "output_type": "stream",
     "text": [
      "459/459 [==============================] - 2463s 5s/step\n"
     ]
    }
   ],
   "source": [
    "y_predicted = model.predict(X_test)\n",
    "y_predicted = y_predicted.flatten()"
   ]
  },
  {
   "cell_type": "code",
   "execution_count": 120,
   "id": "db847440",
   "metadata": {},
   "outputs": [
    {
     "data": {
      "text/plain": [
       "array([1, 0, 1, ..., 0, 1, 1])"
      ]
     },
     "execution_count": 120,
     "metadata": {},
     "output_type": "execute_result"
    }
   ],
   "source": [
    "import numpy as np\n",
    "\n",
    "y_predicted = np.where(y_predicted > 0.5, 1, 0)\n",
    "y_predicted"
   ]
  },
  {
   "cell_type": "code",
   "execution_count": 121,
   "id": "26e4ac25",
   "metadata": {},
   "outputs": [
    {
     "data": {
      "text/plain": [
       "array([[7302,   40],\n",
       "       [  41, 7302]], dtype=int64)"
      ]
     },
     "execution_count": 121,
     "metadata": {},
     "output_type": "execute_result"
    }
   ],
   "source": [
    "from sklearn.metrics import confusion_matrix, classification_report\n",
    "\n",
    "cm = confusion_matrix(y_test, y_predicted)\n",
    "cm "
   ]
  },
  {
   "cell_type": "code",
   "execution_count": 122,
   "id": "552f04d9",
   "metadata": {},
   "outputs": [
    {
     "data": {
      "text/plain": [
       "Text(50.722222222222214, 0.5, 'Truth')"
      ]
     },
     "execution_count": 122,
     "metadata": {},
     "output_type": "execute_result"
    },
    {
     "data": {
      "image/png": "[encoded data removed]",
      "text/plain": [
       "<Figure size 640x480 with 2 Axes>"
      ]
     },
     "metadata": {},
     "output_type": "display_data"
    }
   ],
   "source": [
    "sns.heatmap(cm, annot=True, fmt='d')\n",
    "mt.xlabel('Predicted')\n",
    "mt.ylabel('Truth')"
   ]
  },
  {
   "cell_type": "code",
   "execution_count": 123,
   "id": "7a4c0c47",
   "metadata": {},
   "outputs": [
    {
     "name": "stdout",
     "output_type": "stream",
     "text": [
      "              precision    recall  f1-score   support\n",
      "\n",
      "           0       0.99      0.99      0.99      7342\n",
      "           1       0.99      0.99      0.99      7343\n",
      "\n",
      "    accuracy                           0.99     14685\n",
      "   macro avg       0.99      0.99      0.99     14685\n",
      "weighted avg       0.99      0.99      0.99     14685\n",
      "\n"
     ]
    }
   ],
   "source": [
    "print(classification_report(y_test, y_predicted))"
   ]
  },
  {
   "cell_type": "code",
   "execution_count": 124,
   "id": "ba24cc17",
   "metadata": {},
   "outputs": [
    {
     "name": "stdout",
     "output_type": "stream",
     "text": [
      "1/1 [==============================] - 4s 4s/step\n"
     ]
    },
    {
     "data": {
      "text/plain": [
       "array([[9.8789132e-01],\n",
       "       [9.9988347e-01],\n",
       "       [4.8108384e-01],\n",
       "       [1.2963628e-04],\n",
       "       [2.9187185e-01],\n",
       "       [8.6059803e-01],\n",
       "       [3.2221705e-03],\n",
       "       [2.9236180e-04],\n",
       "       [1.8879799e-03],\n",
       "       [1.1025884e-01],\n",
       "       [9.9382746e-01],\n",
       "       [6.0934252e-03],\n",
       "       [1.7256357e-02]], dtype=float32)"
      ]
     },
     "execution_count": 124,
     "metadata": {},
     "output_type": "execute_result"
    }
   ],
   "source": [
    "reviews = [\n",
    "    \"Utterly Disappointed\",\n",
    "    \"Worst Product i have ever seen\",\n",
    "    \"Worth Purchase\",\n",
    "    \"Super!\",\n",
    "    \"Making shopping feel like a punishment.\",\n",
    "    \"Where your orders go to vanish into thin air\",\n",
    "    \"Excellent quality and durability, worth every penny!\",\n",
    "    \"Sleek design and leak-proof, perfect for on-the-go hydration.\",\n",
    "    \"Lightweight and compact, fits perfectly in my bag or backpack.\",\n",
    "    \"Shut up just say jai shree ram\",\n",
    "    \"This is the worst i have seen\"\n",
    "    \"Marvellous Product\",\n",
    "    \"Best Purchase ever\",\n",
    "    \"Worth every penny\"\n",
    "]\n",
    "model.predict(reviews)"
   ]
  },
  {
   "cell_type": "code",
   "execution_count": null,
   "id": "1a87a948",
   "metadata": {},
   "outputs": [],
   "source": []
  },
  {
   "cell_type": "code",
   "execution_count": null,
   "id": "0bfa42b6",
   "metadata": {},
   "outputs": [],
   "source": []
  }
 ],
 "metadata": {
  "kernelspec": {
   "display_name": "Python 3 (ipykernel)",
   "language": "python",
   "name": "python3"
  },
  "language_info": {
   "codemirror_mode": {
    "name": "ipython",
    "version": 3
   },
   "file_extension": ".py",
   "mimetype": "text/x-python",
   "name": "python",
   "nbconvert_exporter": "python",
   "pygments_lexer": "ipython3",
   "version": "3.8.17"
  }
 },
 "nbformat": 4,
 "nbformat_minor": 5
}
